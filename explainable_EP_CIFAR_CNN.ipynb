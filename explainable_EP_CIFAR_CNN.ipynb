{
 "cells": [
  {
   "cell_type": "code",
   "execution_count": 1,
   "id": "1302ef13",
   "metadata": {},
   "outputs": [],
   "source": [
    "import torch\n",
    "import matplotlib.pyplot as plt\n",
    "import numpy as np\n",
    "import torchvision\n",
    "import torch.nn.functional as F\n",
    "import argparse\n",
    "import matplotlib\n",
    "matplotlib.use('Agg')\n",
    "\n",
    "import glob\n",
    "from PIL import Image\n",
    "import os\n",
    "from datetime import datetime\n",
    "import time\n",
    "import math\n",
    "import sys\n",
    "from model_utils import *\n",
    "from data_utils import *"
   ]
  },
  {
   "cell_type": "code",
   "execution_count": 5,
   "id": "f8508dad",
   "metadata": {},
   "outputs": [
    {
     "data": {
      "text/plain": [
       "device(type='cuda', index=1)"
      ]
     },
     "execution_count": 5,
     "metadata": {},
     "output_type": "execute_result"
    }
   ],
   "source": [
    "device = torch.device('cuda:1')\n",
    "device"
   ]
  },
  {
   "cell_type": "markdown",
   "id": "59f9d11f",
   "metadata": {},
   "source": [
    "# Train a basic energy model CNN on MNIST or CIFAR with EP"
   ]
  },
  {
   "cell_type": "code",
   "execution_count": 104,
   "id": "dc63b260",
   "metadata": {},
   "outputs": [
    {
     "name": "stdout",
     "output_type": "stream",
     "text": [
      "\n",
      "args\tmbs\tT1\tT2\tepochs\tactivation\tbetas\n",
      "\t 100 \t 200 \t 10 \t _ \t hard_sigmoid \t [0.0, 0.5]\n"
     ]
    }
   ],
   "source": [
    "class ModelArgs():\n",
    "    def __init__(self, preset):\n",
    "        if preset == 'cifar_cnn':\n",
    "            ## using the model architecture defined in check/train_cifar10.sh :\n",
    "            # python main.py --model 'CNN' --task 'CIFAR10' --channels 128 256 512 --kernels 3 3 3 --pools 'mmm'\n",
    "            # --strides 1 1 1 --fc 10 --optim 'adam' --lrs 5e-5 5e-5 1e-5 7e-6 --epochs 1 --act 'hard_sigmoid\n",
    "            # --todo 'train' --betas 0.0 0.5 --T1 200 --T2 20 --mbs 128 --check-thm --random-sign --loss 'mse' --save\n",
    "            # --save-nrn  --device 0\n",
    "            self.pools ='mmm'\n",
    "            self.channels = [128, 256, 512]\n",
    "            self.kernels = [3,3,3]\n",
    "            self.strides = [1,1,1]\n",
    "            self.paddings = [0,0,0]\n",
    "            self.fc = [10]\n",
    "            self.lrs = [5e-5, 5e-5, 1e-5, 7e-6] # per-layer learning rates\n",
    "            self.wds = None # weight decay\n",
    "            self.softmax = False\n",
    "            self.act = 'hard_sigmoid'\n",
    "            self.betas = [0.0, 0.5] # free phase, nudged phase\n",
    "            self.T1 = 200 # free phase\n",
    "            self.T2 = 20 # nudged phase\n",
    "            self.loss = 'mse' # or 'cel'\n",
    "            self.alg = 'EP' # options: 'CEP', 'EP', 'BPTT'\n",
    "            self.mbs = 128  # minibatch size\n",
    "        elif preset == 'mnist_cnn':\n",
    "            # python main.py --model 'CNN' --task 'MNIST' --channels 32 64 --kernels 5 5 --pools 'mm'\n",
    "            # --strides 1 1 --fc 10 --optim 'adam' --lrs 5e-5 1e-5 8e-6 --epochs 1 --act 'hard_sigmoid'\n",
    "            # --todo 'train' --betas 0.0 0.4 --T1 200 --T2 10 --mbs 100 --device 0\n",
    "            self.pools ='mm'\n",
    "            self.channels = [32, 64]\n",
    "            self.kernels = [5,5]\n",
    "            self.strides = [1,1]\n",
    "            self.paddings = [0,0]\n",
    "            self.fc = [10]\n",
    "            self.lrs = [5e-5, 1e-5, 8e-6] # per-layer learning rates\n",
    "            self.wds = None # weight decay\n",
    "            self.softmax = False\n",
    "            self.act = 'hard_sigmoid'\n",
    "            self.betas = [0.0, 0.5] # free phase, nudged phase\n",
    "            self.T1 = 200 # free phase\n",
    "            self.T2 = 10 # nudged phase\n",
    "            self.loss = 'mse' # or 'cel'\n",
    "            self.alg = 'EP' # options: 'CEP', 'EP', 'BPTT'\n",
    "            self.mbs = 100  # minibatch size\n",
    "        else:\n",
    "            print('unrecognized preset {}!'.format(preset,))\n",
    "        \n",
    "                    \n",
    "        self.device = device\n",
    "        self.save = False\n",
    "        self.load_path = ''\n",
    "args = ModelArgs('mnist_cnn')\n",
    "print('\\nargs\\tmbs\\tT1\\tT2\\tepochs\\tactivation\\tbetas')\n",
    "print('\\t',args.mbs,'\\t',args.T1,'\\t',args.T2,'\\t','_','\\t',args.act, '\\t', args.betas)"
   ]
  },
  {
   "cell_type": "code",
   "execution_count": 100,
   "id": "bca0a06e",
   "metadata": {},
   "outputs": [],
   "source": [
    "if args.act=='mysig':\n",
    "    activation = my_sigmoid\n",
    "elif args.act=='sigmoid':\n",
    "    activation = torch.sigmoid\n",
    "elif args.act=='tanh':\n",
    "    activation = torch.tanh\n",
    "elif args.act=='hard_sigmoid':\n",
    "    activation = hard_sigmoid\n",
    "elif args.act=='my_hard_sig':\n",
    "    activation = my_hard_sig\n",
    "elif args.act=='ctrd_hard_sig':\n",
    "    activation = ctrd_hard_sig\n",
    "    \n",
    "\n",
    "if args.loss=='mse':\n",
    "    criterion = torch.nn.MSELoss(reduction='none').to(device)\n",
    "elif args.loss=='cel':\n",
    "    criterion = torch.nn.CrossEntropyLoss(reduction='none').to(device)"
   ]
  },
  {
   "cell_type": "code",
   "execution_count": 106,
   "id": "8fd0daed",
   "metadata": {},
   "outputs": [],
   "source": [
    "args.save = True"
   ]
  },
  {
   "cell_type": "code",
   "execution_count": 107,
   "id": "f3bd5f53",
   "metadata": {},
   "outputs": [
    {
     "data": {
      "text/plain": [
       "'results/EP/mse/2023-06-28/09-44-52_gpucuda:1'"
      ]
     },
     "execution_count": 107,
     "metadata": {},
     "output_type": "execute_result"
    }
   ],
   "source": [
    "if args.save:\n",
    "    date = datetime.now().strftime('%Y-%m-%d')\n",
    "    time = datetime.now().strftime('%H-%M-%S')\n",
    "    if args.load_path=='':\n",
    "        path = 'results/'+args.alg+'/'+args.loss+'/'+date+'/'+time+'_gpu'+str(args.device)\n",
    "    else:\n",
    "        path = args.load_path\n",
    "    if not(os.path.exists(path)):\n",
    "        os.makedirs(path)\n",
    "else:\n",
    "    path = ''\n",
    "path"
   ]
  },
  {
   "cell_type": "code",
   "execution_count": 74,
   "id": "1624ab7e",
   "metadata": {},
   "outputs": [
    {
     "data": {
      "text/plain": [
       "([1, 1], [32, 64], [0, 0])"
      ]
     },
     "execution_count": 74,
     "metadata": {},
     "output_type": "execute_result"
    }
   ],
   "source": [
    "args.strides, args.channels, args.paddings"
   ]
  },
  {
   "cell_type": "code",
   "execution_count": 76,
   "id": "91111e96",
   "metadata": {},
   "outputs": [],
   "source": [
    "if args.load_path == '':\n",
    "    pools = make_pools(args.pools)\n",
    "    channels = [3]+args.channels\n",
    "    model = P_CNN(32, channels, args.kernels, args.strides, args.fc, pools, args.paddings,\n",
    "                  activation=activation, softmax=args.softmax)\n",
    "else:\n",
    "    model = torch.load(load_path + '/model.pt', map_location=device)"
   ]
  },
  {
   "cell_type": "code",
   "execution_count": 77,
   "id": "303ea606",
   "metadata": {},
   "outputs": [
    {
     "data": {
      "text/plain": [
       "P_CNN(\n",
       "  (synapses): ModuleList(\n",
       "    (0): Conv2d(3, 32, kernel_size=(5, 5), stride=(1, 1))\n",
       "    (1): Conv2d(32, 64, kernel_size=(5, 5), stride=(1, 1))\n",
       "    (2): Linear(in_features=1600, out_features=10, bias=True)\n",
       "  )\n",
       ")"
      ]
     },
     "execution_count": 77,
     "metadata": {},
     "output_type": "execute_result"
    }
   ],
   "source": [
    "model"
   ]
  },
  {
   "cell_type": "markdown",
   "id": "dc92d90c",
   "metadata": {},
   "source": [
    "## set up CIFAR dataset"
   ]
  },
  {
   "cell_type": "code",
   "execution_count": 78,
   "id": "8cc059b1",
   "metadata": {},
   "outputs": [
    {
     "name": "stdout",
     "output_type": "stream",
     "text": [
      "Files already downloaded and verified\n",
      "Files already downloaded and verified\n"
     ]
    }
   ],
   "source": [
    "transform_train = torchvision.transforms.Compose([torchvision.transforms.ToTensor(), \n",
    "                                                          torchvision.transforms.Normalize(mean=(0.4914, 0.4822, 0.4465), \n",
    "                                                                                           std=(3*0.2023, 3*0.1994, 3*0.2010)) ])   \n",
    "\n",
    "transform_test = torchvision.transforms.Compose([torchvision.transforms.ToTensor(), \n",
    "                                                 torchvision.transforms.Normalize(mean=(0.4914, 0.4822, 0.4465), \n",
    "                                                                                  std=(3*0.2023, 3*0.1994, 3*0.2010)) ]) \n",
    "\n",
    "cifar10_train_dset = torchvision.datasets.CIFAR10('./cifar10_pytorch', train=True, transform=transform_train, download=True)\n",
    "cifar10_test_dset = torchvision.datasets.CIFAR10('./cifar10_pytorch', train=False, transform=transform_test, download=True)\n",
    "\n",
    "# For Validation set\n",
    "val_index = np.random.randint(10)\n",
    "val_samples = list(range( 5000 * val_index, 5000 * (val_index + 1) ))\n",
    "\n",
    "#train_loader = torch.utils.data.DataLoader(cifar10_train_dset, batch_size=mbs, sampler = torch.utils.data.SubsetRandomSampler(val_samples), shuffle=False, num_workers=1)\n",
    "train_loader = torch.utils.data.DataLoader(cifar10_train_dset, batch_size=mbs, shuffle=True, num_workers=1)\n",
    "test_loader = torch.utils.data.DataLoader(cifar10_test_dset, batch_size=200, shuffle=False, num_workers=1)"
   ]
  },
  {
   "cell_type": "markdown",
   "id": "c9d91737",
   "metadata": {},
   "source": [
    "## training"
   ]
  },
  {
   "cell_type": "markdown",
   "id": "847c9dc0",
   "metadata": {},
   "source": [
    "### set up"
   ]
  },
  {
   "cell_type": "code",
   "execution_count": 79,
   "id": "1d275be2",
   "metadata": {},
   "outputs": [],
   "source": [
    "optim_params = []\n",
    "for idx in range(len(model.synapses)):\n",
    "    if args.wds is None:\n",
    "        optim_params.append(  {'params': model.synapses[idx].parameters(), 'lr': args.lrs[idx]}  )\n",
    "    else:\n",
    "        optim_params.append(  {'params': model.synapses[idx].parameters(), 'lr': args.lrs[idx], 'weight_decay': args.wds[idx]}  )\n",
    "    if hasattr(model, 'B_syn'):\n",
    "        for idx in range(len(model.B_syn)):\n",
    "            if args.wds is None:\n",
    "                optim_params.append( {'params': model.B_syn[idx].parameters(), 'lr': args.lrs[idx+1]} )\n",
    "            else:\n",
    "                optim_params.append( {'params': model.B_syn[idx].parameters(), 'lr': args.lrs[idx+1], 'weight_decay': args.wds[idx+1]} )\n",
    "#         if hasattr(model, 'lat_syn'):\n",
    "#             for idx in range(len(model.lat_syn)):\n",
    "#                 if args.wds is None:\n",
    "#                     optim_params.append( {'params': model.lat_syn[idx].parameters(), 'lr': args.lrs[idx]} )\n",
    "#                 else:\n",
    "#                     optim_params.append( {'params': model.lat_syn[idx].parameters(), 'lr': args.lrs[idx], 'weight_decay': args.wds[idx+1]} )"
   ]
  },
  {
   "cell_type": "code",
   "execution_count": 80,
   "id": "64d13974",
   "metadata": {},
   "outputs": [],
   "source": [
    "optimizer = torch.optim.Adam( optim_params ) # we will still use EP to calculate the gradient of the weights, but torch will update the values for us"
   ]
  },
  {
   "cell_type": "code",
   "execution_count": 81,
   "id": "2096fa4f",
   "metadata": {},
   "outputs": [],
   "source": [
    "if save and load_path=='':\n",
    "        createHyperparametersFile(path, args, model, command_line)"
   ]
  },
  {
   "cell_type": "code",
   "execution_count": 82,
   "id": "65b02268",
   "metadata": {},
   "outputs": [],
   "source": [
    "### do the training!"
   ]
  },
  {
   "cell_type": "code",
   "execution_count": 84,
   "id": "9a9c71df",
   "metadata": {
    "scrolled": false
   },
   "outputs": [
    {
     "name": "stdout",
     "output_type": "stream",
     "text": [
      "Epoch : 0.0 \tRun train acc : 0.25 \t(5/20)\t elapsed time : 0m 0s \t (will finish in 406m 58s)\n",
      "Epoch : 0.1 \tRun train acc : 0.235 \t(1182/5020)\t elapsed time : 3m 23s \t (will finish in 334m 15s)\n",
      "Epoch : 0.2 \tRun train acc : 0.236 \t(2360/10020)\t elapsed time : 6m 42s \t (will finish in 328m 22s)\n",
      "Epoch : 0.3 \tRun train acc : 0.233 \t(3507/15020)\t elapsed time : 10m 28s \t (will finish in 338m 21s)\n",
      "Epoch : 0.4 \tRun train acc : 0.234 \t(4676/20020)\t elapsed time : 13m 55s \t (will finish in 333m 55s)\n",
      "Epoch : 0.5 \tRun train acc : 0.236 \t(5901/25020)\t elapsed time : 17m 3s \t (will finish in 323m 51s)\n",
      "Epoch : 0.6 \tRun train acc : 0.237 \t(7106/30020)\t elapsed time : 20m 26s \t (will finish in 319m 54s)\n",
      "Epoch : 0.7 \tRun train acc : 0.239 \t(8362/35020)\t elapsed time : 23m 12s \t (will finish in 308m 11s)\n",
      "Epoch : 0.8 \tRun train acc : 0.241 \t(9635/40020)\t elapsed time : 27m 0s \t (will finish in 310m 30s)\n",
      "Epoch : 0.9 \tRun train acc : 0.243 \t(10945/45020)\t elapsed time : 30m 41s \t (will finish in 310m 14s)\n",
      "Epoch : 1.0 \tRun train acc : 0.243 \t(12173/50000)\t elapsed time : 34m 15s \t (will finish in 308m 16s)\n",
      "Test accuracy :\t 0.2614\n",
      "Epoch : 1.0 \tRun train acc : 0.3 \t(6/20)\t elapsed time : 35m 5s \t (will finish in 315m 41s)\n",
      "Epoch : 1.1 \tRun train acc : 0.259 \t(1302/5020)\t elapsed time : 38m 32s \t (will finish in 311m 44s)\n",
      "Epoch : 1.2 \tRun train acc : 0.264 \t(2645/10020)\t elapsed time : 42m 19s \t (will finish in 310m 14s)\n",
      "Epoch : 1.3 \tRun train acc : 0.267 \t(4006/15020)\t elapsed time : 46m 13s \t (will finish in 309m 14s)\n",
      "Epoch : 1.4 \tRun train acc : 0.269 \t(5395/20020)\t elapsed time : 49m 38s \t (will finish in 304m 49s)\n",
      "Epoch : 1.5 \tRun train acc : 0.27 \t(6761/25020)\t elapsed time : 53m 23s \t (will finish in 302m 29s)\n",
      "Epoch : 1.6 \tRun train acc : 0.27 \t(8103/30020)\t elapsed time : 57m 10s \t (will finish in 300m 3s)\n",
      "Epoch : 1.7 \tRun train acc : 0.272 \t(9536/35020)\t elapsed time : 60m 56s \t (will finish in 297m 27s)\n",
      "Epoch : 1.8 \tRun train acc : 0.272 \t(10886/40020)\t elapsed time : 64m 44s \t (will finish in 294m 49s)\n",
      "Epoch : 1.9 \tRun train acc : 0.274 \t(12336/45020)\t elapsed time : 68m 8s \t (will finish in 290m 26s)\n",
      "Epoch : 2.0 \tRun train acc : 0.277 \t(13842/50000)\t elapsed time : 71m 18s \t (will finish in 285m 12s)\n",
      "Test accuracy :\t 0.2817\n",
      "Epoch : 2.0 \tRun train acc : 0.5 \t(10/20)\t elapsed time : 72m 7s \t (will finish in 288m 25s)\n",
      "Epoch : 2.1 \tRun train acc : 0.299 \t(1499/5020)\t elapsed time : 75m 33s \t (will finish in 284m 9s)\n",
      "Epoch : 2.2 \tRun train acc : 0.299 \t(2996/10020)\t elapsed time : 79m 27s \t (will finish in 281m 38s)\n",
      "Epoch : 2.3 \tRun train acc : 0.297 \t(4455/15020)\t elapsed time : 83m 21s \t (will finish in 279m 0s)\n",
      "Epoch : 2.4 \tRun train acc : 0.293 \t(5868/20020)\t elapsed time : 87m 8s \t (will finish in 275m 54s)\n",
      "Epoch : 2.5 \tRun train acc : 0.295 \t(7384/25020)\t elapsed time : 90m 57s \t (will finish in 272m 48s)\n",
      "Epoch : 2.6 \tRun train acc : 0.296 \t(8897/30020)\t elapsed time : 94m 25s \t (will finish in 268m 40s)\n",
      "Epoch : 2.7 \tRun train acc : 0.3 \t(10494/35020)\t elapsed time : 98m 8s \t (will finish in 265m 17s)\n",
      "Epoch : 2.8 \tRun train acc : 0.301 \t(12035/40020)\t elapsed time : 101m 55s \t (will finish in 262m 1s)\n",
      "Epoch : 2.9 \tRun train acc : 0.302 \t(13618/45020)\t elapsed time : 105m 42s \t (will finish in 258m 45s)\n",
      "Epoch : 3.0 \tRun train acc : 0.304 \t(15191/50000)\t elapsed time : 109m 17s \t (will finish in 254m 59s)\n",
      "Test accuracy :\t 0.3137\n",
      "Epoch : 3.0 \tRun train acc : 0.15 \t(3/20)\t elapsed time : 110m 6s \t (will finish in 256m 51s)\n",
      "Epoch : 3.1 \tRun train acc : 0.309 \t(1553/5020)\t elapsed time : 113m 49s \t (will finish in 253m 19s)\n",
      "Epoch : 3.2 \tRun train acc : 0.312 \t(3131/10020)\t elapsed time : 116m 42s \t (will finish in 247m 58s)\n",
      "Epoch : 3.3 \tRun train acc : 0.315 \t(4728/15020)\t elapsed time : 120m 12s \t (will finish in 244m 1s)\n",
      "Epoch : 3.4 \tRun train acc : 0.32 \t(6407/20020)\t elapsed time : 124m 8s \t (will finish in 240m 55s)\n",
      "Epoch : 3.5 \tRun train acc : 0.322 \t(8050/25020)\t elapsed time : 127m 35s \t (will finish in 236m 55s)\n",
      "Epoch : 3.6 \tRun train acc : 0.323 \t(9686/30020)\t elapsed time : 131m 13s \t (will finish in 233m 15s)\n",
      "Epoch : 3.7 \tRun train acc : 0.325 \t(11384/35020)\t elapsed time : 134m 55s \t (will finish in 229m 41s)\n",
      "Epoch : 3.8 \tRun train acc : 0.327 \t(13079/40020)\t elapsed time : 138m 42s \t (will finish in 226m 16s)\n",
      "Epoch : 3.9 \tRun train acc : 0.328 \t(14762/45020)\t elapsed time : 142m 33s \t (will finish in 222m 56s)\n",
      "Epoch : 4.0 \tRun train acc : 0.329 \t(16450/50000)\t elapsed time : 146m 17s \t (will finish in 219m 25s)\n",
      "Test accuracy :\t 0.3414\n",
      "Epoch : 4.0 \tRun train acc : 0.25 \t(5/20)\t elapsed time : 147m 6s \t (will finish in 220m 37s)\n",
      "Epoch : 4.1 \tRun train acc : 0.346 \t(1736/5020)\t elapsed time : 150m 17s \t (will finish in 216m 14s)\n",
      "Epoch : 4.2 \tRun train acc : 0.349 \t(3501/10020)\t elapsed time : 154m 8s \t (will finish in 212m 49s)\n",
      "Epoch : 4.3 \tRun train acc : 0.348 \t(5226/15020)\t elapsed time : 157m 42s \t (will finish in 209m 1s)\n",
      "Epoch : 4.4 \tRun train acc : 0.348 \t(6972/20020)\t elapsed time : 161m 10s \t (will finish in 205m 6s)\n",
      "Epoch : 4.5 \tRun train acc : 0.348 \t(8717/25020)\t elapsed time : 164m 49s \t (will finish in 201m 24s)\n",
      "Epoch : 4.6 \tRun train acc : 0.35 \t(10516/30020)\t elapsed time : 168m 24s \t (will finish in 197m 39s)\n",
      "Epoch : 4.7 \tRun train acc : 0.353 \t(12358/35020)\t elapsed time : 172m 8s \t (will finish in 194m 5s)\n",
      "Epoch : 4.8 \tRun train acc : 0.353 \t(14117/40020)\t elapsed time : 175m 56s \t (will finish in 190m 34s)\n",
      "Epoch : 4.9 \tRun train acc : 0.353 \t(15880/45020)\t elapsed time : 179m 40s \t (will finish in 186m 58s)\n",
      "Epoch : 5.0 \tRun train acc : 0.354 \t(17677/50000)\t elapsed time : 183m 25s \t (will finish in 183m 25s)\n",
      "Test accuracy :\t 0.3658\n",
      "Epoch : 5.0 \tRun train acc : 0.35 \t(7/20)\t elapsed time : 184m 14s \t (will finish in 184m 13s)\n",
      "Epoch : 5.1 \tRun train acc : 0.359 \t(1804/5020)\t elapsed time : 188m 2s \t (will finish in 180m 38s)\n",
      "Epoch : 5.2 \tRun train acc : 0.357 \t(3582/10020)\t elapsed time : 191m 44s \t (will finish in 176m 58s)\n",
      "Epoch : 5.3 \tRun train acc : 0.358 \t(5378/15020)\t elapsed time : 195m 33s \t (will finish in 173m 23s)\n",
      "Epoch : 5.4 \tRun train acc : 0.364 \t(7282/20020)\t elapsed time : 199m 19s \t (will finish in 169m 45s)\n",
      "Epoch : 5.5 \tRun train acc : 0.365 \t(9123/25020)\t elapsed time : 202m 44s \t (will finish in 165m 51s)\n",
      "Epoch : 5.6 \tRun train acc : 0.365 \t(10963/30020)\t elapsed time : 206m 30s \t (will finish in 162m 13s)\n",
      "Epoch : 5.7 \tRun train acc : 0.367 \t(12850/35020)\t elapsed time : 210m 5s \t (will finish in 158m 27s)\n",
      "Epoch : 5.8 \tRun train acc : 0.368 \t(14714/40020)\t elapsed time : 213m 43s \t (will finish in 154m 44s)\n",
      "Epoch : 5.9 \tRun train acc : 0.368 \t(16549/45020)\t elapsed time : 217m 7s \t (will finish in 150m 51s)\n",
      "Epoch : 6.0 \tRun train acc : 0.369 \t(18471/50000)\t elapsed time : 220m 28s \t (will finish in 146m 59s)\n",
      "Test accuracy :\t 0.3803\n",
      "Epoch : 6.0 \tRun train acc : 0.3 \t(6/20)\t elapsed time : 221m 18s \t (will finish in 147m 30s)\n",
      "Epoch : 6.1 \tRun train acc : 0.393 \t(1973/5020)\t elapsed time : 225m 8s \t (will finish in 143m 55s)\n",
      "Epoch : 6.2 \tRun train acc : 0.389 \t(3902/10020)\t elapsed time : 228m 35s \t (will finish in 140m 4s)\n",
      "Epoch : 6.3 \tRun train acc : 0.383 \t(5752/15020)\t elapsed time : 232m 19s \t (will finish in 136m 25s)\n",
      "Epoch : 6.4 \tRun train acc : 0.382 \t(7650/20020)\t elapsed time : 236m 6s \t (will finish in 132m 46s)\n",
      "Epoch : 6.5 \tRun train acc : 0.381 \t(9543/25020)\t elapsed time : 239m 50s \t (will finish in 129m 7s)\n",
      "Epoch : 6.6 \tRun train acc : 0.38 \t(11416/30020)\t elapsed time : 243m 35s \t (will finish in 125m 27s)\n",
      "Epoch : 6.7 \tRun train acc : 0.38 \t(13320/35020)\t elapsed time : 247m 12s \t (will finish in 121m 44s)\n",
      "Epoch : 6.8 \tRun train acc : 0.381 \t(15259/40020)\t elapsed time : 250m 37s \t (will finish in 117m 55s)\n",
      "Epoch : 6.9 \tRun train acc : 0.382 \t(17177/45020)\t elapsed time : 254m 24s \t (will finish in 114m 16s)\n",
      "Epoch : 7.0 \tRun train acc : 0.381 \t(19049/50000)\t elapsed time : 258m 5s \t (will finish in 110m 36s)\n",
      "Test accuracy :\t 0.3894\n",
      "Epoch : 7.0 \tRun train acc : 0.45 \t(9/20)\t elapsed time : 258m 55s \t (will finish in 110m 56s)\n",
      "Epoch : 7.1 \tRun train acc : 0.389 \t(1955/5020)\t elapsed time : 262m 9s \t (will finish in 107m 3s)\n",
      "Epoch : 7.2 \tRun train acc : 0.393 \t(3937/10020)\t elapsed time : 265m 49s \t (will finish in 103m 21s)\n"
     ]
    },
    {
     "name": "stdout",
     "output_type": "stream",
     "text": [
      "Epoch : 7.3 \tRun train acc : 0.391 \t(5878/15020)\t elapsed time : 269m 32s \t (will finish in 99m 40s)\n",
      "Epoch : 7.4 \tRun train acc : 0.389 \t(7794/20020)\t elapsed time : 272m 54s \t (will finish in 95m 51s)\n",
      "Epoch : 7.5 \tRun train acc : 0.392 \t(9801/25020)\t elapsed time : 276m 43s \t (will finish in 92m 13s)\n",
      "Epoch : 7.6 \tRun train acc : 0.391 \t(11738/30020)\t elapsed time : 280m 30s \t (will finish in 88m 33s)\n",
      "Epoch : 7.7 \tRun train acc : 0.392 \t(13732/35020)\t elapsed time : 284m 21s \t (will finish in 84m 55s)\n",
      "Epoch : 7.8 \tRun train acc : 0.392 \t(15692/40020)\t elapsed time : 288m 12s \t (will finish in 81m 16s)\n",
      "Epoch : 7.9 \tRun train acc : 0.394 \t(17720/45020)\t elapsed time : 291m 23s \t (will finish in 77m 26s)\n",
      "Epoch : 8.0 \tRun train acc : 0.394 \t(19721/50000)\t elapsed time : 294m 57s \t (will finish in 73m 44s)\n",
      "Test accuracy :\t 0.3989\n",
      "Epoch : 8.0 \tRun train acc : 0.45 \t(9/20)\t elapsed time : 295m 46s \t (will finish in 73m 55s)\n",
      "Epoch : 8.1 \tRun train acc : 0.419 \t(2104/5020)\t elapsed time : 299m 35s \t (will finish in 70m 15s)\n",
      "Epoch : 8.2 \tRun train acc : 0.41 \t(4105/10020)\t elapsed time : 303m 19s \t (will finish in 66m 33s)\n",
      "Epoch : 8.3 \tRun train acc : 0.404 \t(6075/15020)\t elapsed time : 306m 54s \t (will finish in 62m 50s)\n",
      "Epoch : 8.4 \tRun train acc : 0.401 \t(8036/20020)\t elapsed time : 310m 29s \t (will finish in 59m 7s)\n",
      "Epoch : 8.5 \tRun train acc : 0.401 \t(10037/25020)\t elapsed time : 314m 15s \t (will finish in 55m 26s)\n",
      "Epoch : 8.6 \tRun train acc : 0.401 \t(12032/30020)\t elapsed time : 318m 4s \t (will finish in 51m 45s)\n",
      "Epoch : 8.7 \tRun train acc : 0.403 \t(14101/35020)\t elapsed time : 321m 44s \t (will finish in 48m 3s)\n",
      "Epoch : 8.8 \tRun train acc : 0.402 \t(16098/40020)\t elapsed time : 325m 17s \t (will finish in 44m 20s)\n",
      "Epoch : 8.9 \tRun train acc : 0.402 \t(18087/45020)\t elapsed time : 329m 2s \t (will finish in 40m 39s)\n",
      "Epoch : 9.0 \tRun train acc : 0.402 \t(20106/50000)\t elapsed time : 332m 45s \t (will finish in 36m 58s)\n",
      "Test accuracy :\t 0.3943\n",
      "Epoch : 9.0 \tRun train acc : 0.25 \t(5/20)\t elapsed time : 333m 34s \t (will finish in 37m 2s)\n",
      "Epoch : 9.1 \tRun train acc : 0.395 \t(1985/5020)\t elapsed time : 336m 52s \t (will finish in 33m 18s)\n",
      "Epoch : 9.2 \tRun train acc : 0.391 \t(3918/10020)\t elapsed time : 340m 41s \t (will finish in 29m 36s)\n",
      "Epoch : 9.3 \tRun train acc : 0.397 \t(5969/15020)\t elapsed time : 344m 31s \t (will finish in 25m 54s)\n",
      "Epoch : 9.4 \tRun train acc : 0.401 \t(8023/20020)\t elapsed time : 348m 19s \t (will finish in 22m 13s)\n",
      "Epoch : 9.5 \tRun train acc : 0.404 \t(10117/25020)\t elapsed time : 350m 59s \t (will finish in 18m 27s)\n",
      "Epoch : 9.6 \tRun train acc : 0.406 \t(12184/30020)\t elapsed time : 354m 43s \t (will finish in 14m 45s)\n",
      "Epoch : 9.7 \tRun train acc : 0.406 \t(14211/35020)\t elapsed time : 358m 38s \t (will finish in 11m 4s)\n",
      "Epoch : 9.8 \tRun train acc : 0.406 \t(16245/40020)\t elapsed time : 362m 21s \t (will finish in 7m 22s)\n",
      "Epoch : 9.9 \tRun train acc : 0.408 \t(18387/45020)\t elapsed time : 366m 15s \t (will finish in 3m 41s)\n",
      "Epoch : 10.0 \tRun train acc : 0.409 \t(20426/50000)\t elapsed time : 370m 9s \t (will finish in 0m 0s)\n",
      "Test accuracy :\t 0.4137\n"
     ]
    }
   ],
   "source": [
    "model = model.to(device)\n",
    "train(model, optimizer, train_loader, test_loader, args.T1, args.T2, args.betas, device, 10, criterion, alg=args.alg, \n",
    "                 random_sign=True, check_thm=False, save=False, path=path, checkpoint=None, \n",
    "                 thirdphase=True, scheduler=None, cep_debug=False)"
   ]
  },
  {
   "cell_type": "code",
   "execution_count": 85,
   "id": "1be578c3",
   "metadata": {
    "scrolled": false
   },
   "outputs": [
    {
     "name": "stdout",
     "output_type": "stream",
     "text": [
      "Epoch : 0.0 \tRun train acc : 0.45 \t(9/20)\t elapsed time : 0m 0s \t (will finish in 705m 12s)\n",
      "Epoch : 0.1 \tRun train acc : 0.409 \t(2055/5020)\t elapsed time : 3m 52s \t (will finish in 766m 33s)\n",
      "Epoch : 0.2 \tRun train acc : 0.409 \t(4097/10020)\t elapsed time : 7m 44s \t (will finish in 765m 31s)\n",
      "Epoch : 0.3 \tRun train acc : 0.41 \t(6152/15020)\t elapsed time : 11m 33s \t (will finish in 758m 0s)\n",
      "Epoch : 0.4 \tRun train acc : 0.41 \t(8208/20020)\t elapsed time : 15m 10s \t (will finish in 742m 55s)\n",
      "Epoch : 0.5 \tRun train acc : 0.412 \t(10303/25020)\t elapsed time : 18m 53s \t (will finish in 736m 20s)\n",
      "Epoch : 0.6 \tRun train acc : 0.413 \t(12405/30020)\t elapsed time : 22m 44s \t (will finish in 735m 3s)\n",
      "Epoch : 0.7 \tRun train acc : 0.415 \t(14529/35020)\t elapsed time : 26m 34s \t (will finish in 732m 27s)\n",
      "Epoch : 0.8 \tRun train acc : 0.416 \t(16641/40020)\t elapsed time : 30m 0s \t (will finish in 719m 58s)\n",
      "Epoch : 0.9 \tRun train acc : 0.417 \t(18770/45020)\t elapsed time : 33m 33s \t (will finish in 711m 55s)\n",
      "Epoch : 1.0 \tRun train acc : 0.417 \t(20847/50000)\t elapsed time : 37m 14s \t (will finish in 707m 37s)\n",
      "Test accuracy :\t 0.416\n",
      "Epoch : 1.0 \tRun train acc : 0.45 \t(9/20)\t elapsed time : 38m 3s \t (will finish in 722m 39s)\n",
      "Epoch : 1.1 \tRun train acc : 0.42 \t(2107/5020)\t elapsed time : 41m 43s \t (will finish in 716m 30s)\n",
      "Epoch : 1.2 \tRun train acc : 0.416 \t(4171/10020)\t elapsed time : 45m 35s \t (will finish in 713m 56s)\n",
      "Epoch : 1.3 \tRun train acc : 0.424 \t(6369/15020)\t elapsed time : 48m 48s \t (will finish in 701m 47s)\n",
      "Epoch : 1.4 \tRun train acc : 0.427 \t(8545/20020)\t elapsed time : 52m 14s \t (will finish in 693m 54s)\n",
      "Epoch : 1.5 \tRun train acc : 0.424 \t(10616/25020)\t elapsed time : 56m 3s \t (will finish in 691m 5s)\n",
      "Epoch : 1.6 \tRun train acc : 0.425 \t(12752/30020)\t elapsed time : 59m 47s \t (will finish in 687m 26s)\n",
      "Epoch : 1.7 \tRun train acc : 0.425 \t(14891/35020)\t elapsed time : 63m 37s \t (will finish in 684m 48s)\n",
      "Epoch : 1.8 \tRun train acc : 0.427 \t(17081/40020)\t elapsed time : 67m 15s \t (will finish in 679m 48s)\n",
      "Epoch : 1.9 \tRun train acc : 0.428 \t(19280/45020)\t elapsed time : 70m 59s \t (will finish in 676m 9s)\n",
      "Epoch : 2.0 \tRun train acc : 0.428 \t(21404/50000)\t elapsed time : 74m 26s \t (will finish in 669m 59s)\n",
      "Test accuracy :\t 0.4225\n",
      "Epoch : 2.0 \tRun train acc : 0.45 \t(9/20)\t elapsed time : 75m 15s \t (will finish in 677m 11s)\n",
      "Epoch : 2.1 \tRun train acc : 0.434 \t(2181/5020)\t elapsed time : 78m 56s \t (will finish in 672m 44s)\n",
      "Epoch : 2.2 \tRun train acc : 0.437 \t(4375/10020)\t elapsed time : 82m 36s \t (will finish in 668m 13s)\n",
      "Epoch : 2.3 \tRun train acc : 0.436 \t(6548/15020)\t elapsed time : 86m 15s \t (will finish in 663m 42s)\n",
      "Epoch : 2.4 \tRun train acc : 0.436 \t(8737/20020)\t elapsed time : 90m 8s \t (will finish in 660m 51s)\n",
      "Epoch : 2.5 \tRun train acc : 0.437 \t(10931/25020)\t elapsed time : 93m 54s \t (will finish in 657m 13s)\n",
      "Epoch : 2.6 \tRun train acc : 0.438 \t(13148/30020)\t elapsed time : 97m 50s \t (will finish in 654m 38s)\n",
      "Epoch : 2.7 \tRun train acc : 0.437 \t(15321/35020)\t elapsed time : 101m 33s \t (will finish in 650m 36s)\n",
      "Epoch : 2.8 \tRun train acc : 0.437 \t(17477/40020)\t elapsed time : 105m 0s \t (will finish in 644m 53s)\n",
      "Epoch : 2.9 \tRun train acc : 0.437 \t(19669/45020)\t elapsed time : 108m 12s \t (will finish in 637m 57s)\n",
      "Epoch : 3.0 \tRun train acc : 0.437 \t(21848/50000)\t elapsed time : 111m 42s \t (will finish in 632m 59s)\n",
      "Test accuracy :\t 0.4321\n",
      "Epoch : 3.0 \tRun train acc : 0.25 \t(5/20)\t elapsed time : 112m 31s \t (will finish in 637m 32s)\n",
      "Epoch : 3.1 \tRun train acc : 0.446 \t(2241/5020)\t elapsed time : 116m 13s \t (will finish in 633m 32s)\n",
      "Epoch : 3.2 \tRun train acc : 0.446 \t(4472/10020)\t elapsed time : 119m 36s \t (will finish in 627m 52s)\n",
      "Epoch : 3.3 \tRun train acc : 0.443 \t(6660/15020)\t elapsed time : 123m 26s \t (will finish in 624m 35s)\n",
      "Epoch : 3.4 \tRun train acc : 0.443 \t(8860/20020)\t elapsed time : 127m 11s \t (will finish in 620m 53s)\n",
      "Epoch : 3.5 \tRun train acc : 0.443 \t(11078/25020)\t elapsed time : 130m 45s \t (will finish in 616m 21s)\n",
      "Epoch : 3.6 \tRun train acc : 0.445 \t(13361/30020)\t elapsed time : 134m 9s \t (will finish in 611m 3s)\n",
      "Epoch : 3.7 \tRun train acc : 0.444 \t(15532/35020)\t elapsed time : 137m 45s \t (will finish in 606m 49s)\n",
      "Epoch : 3.8 \tRun train acc : 0.444 \t(17776/40020)\t elapsed time : 140m 50s \t (will finish in 600m 20s)\n",
      "Epoch : 3.9 \tRun train acc : 0.444 \t(19990/45020)\t elapsed time : 144m 24s \t (will finish in 596m 5s)\n",
      "Epoch : 4.0 \tRun train acc : 0.444 \t(22223/50000)\t elapsed time : 148m 9s \t (will finish in 592m 37s)\n",
      "Test accuracy :\t 0.4394\n",
      "Epoch : 4.0 \tRun train acc : 0.45 \t(9/20)\t elapsed time : 148m 58s \t (will finish in 595m 49s)\n",
      "Epoch : 4.1 \tRun train acc : 0.451 \t(2264/5020)\t elapsed time : 152m 55s \t (will finish in 592m 57s)\n",
      "Epoch : 4.2 \tRun train acc : 0.448 \t(4490/10020)\t elapsed time : 156m 47s \t (will finish in 589m 45s)\n",
      "Epoch : 4.3 \tRun train acc : 0.449 \t(6750/15020)\t elapsed time : 160m 26s \t (will finish in 585m 42s)\n",
      "Epoch : 4.4 \tRun train acc : 0.452 \t(9048/20020)\t elapsed time : 164m 18s \t (will finish in 582m 30s)\n",
      "Epoch : 4.5 \tRun train acc : 0.452 \t(11309/25020)\t elapsed time : 168m 2s \t (will finish in 578m 44s)\n",
      "Epoch : 4.6 \tRun train acc : 0.453 \t(13587/30020)\t elapsed time : 171m 56s \t (will finish in 575m 32s)\n",
      "Epoch : 4.7 \tRun train acc : 0.452 \t(15844/35020)\t elapsed time : 175m 46s \t (will finish in 572m 9s)\n",
      "Epoch : 4.8 \tRun train acc : 0.452 \t(18094/40020)\t elapsed time : 179m 40s \t (will finish in 568m 53s)\n",
      "Epoch : 4.9 \tRun train acc : 0.451 \t(20307/45020)\t elapsed time : 183m 27s \t (will finish in 565m 18s)\n",
      "Epoch : 5.0 \tRun train acc : 0.452 \t(22615/50000)\t elapsed time : 187m 19s \t (will finish in 561m 58s)\n",
      "Test accuracy :\t 0.4475\n",
      "Epoch : 5.0 \tRun train acc : 0.45 \t(9/20)\t elapsed time : 188m 7s \t (will finish in 564m 19s)\n",
      "Epoch : 5.1 \tRun train acc : 0.456 \t(2290/5020)\t elapsed time : 191m 54s \t (will finish in 560m 37s)\n",
      "Epoch : 5.2 \tRun train acc : 0.46 \t(4612/10020)\t elapsed time : 195m 41s \t (will finish in 556m 54s)\n",
      "Epoch : 5.3 \tRun train acc : 0.463 \t(6956/15020)\t elapsed time : 199m 34s \t (will finish in 553m 29s)\n",
      "Epoch : 5.4 \tRun train acc : 0.462 \t(9252/20020)\t elapsed time : 203m 20s \t (will finish in 549m 43s)\n",
      "Epoch : 5.5 \tRun train acc : 0.463 \t(11575/25020)\t elapsed time : 207m 9s \t (will finish in 546m 6s)\n",
      "Epoch : 5.6 \tRun train acc : 0.462 \t(13876/30020)\t elapsed time : 210m 59s \t (will finish in 542m 29s)\n",
      "Epoch : 5.7 \tRun train acc : 0.461 \t(16160/35020)\t elapsed time : 214m 38s \t (will finish in 538m 25s)\n",
      "Epoch : 5.8 \tRun train acc : 0.461 \t(18463/40020)\t elapsed time : 218m 22s \t (will finish in 534m 35s)\n",
      "Epoch : 5.9 \tRun train acc : 0.46 \t(20721/45020)\t elapsed time : 222m 19s \t (will finish in 531m 15s)\n",
      "Epoch : 6.0 \tRun train acc : 0.461 \t(23051/50000)\t elapsed time : 225m 52s \t (will finish in 527m 1s)\n",
      "Test accuracy :\t 0.4546\n",
      "Epoch : 6.0 \tRun train acc : 0.55 \t(11/20)\t elapsed time : 226m 40s \t (will finish in 528m 52s)\n",
      "Epoch : 6.1 \tRun train acc : 0.467 \t(2342/5020)\t elapsed time : 230m 28s \t (will finish in 525m 8s)\n",
      "Epoch : 6.2 \tRun train acc : 0.463 \t(4636/10020)\t elapsed time : 234m 9s \t (will finish in 521m 8s)\n",
      "Epoch : 6.3 \tRun train acc : 0.465 \t(6977/15020)\t elapsed time : 237m 54s \t (will finish in 517m 17s)\n",
      "Epoch : 6.4 \tRun train acc : 0.462 \t(9259/20020)\t elapsed time : 241m 10s \t (will finish in 512m 26s)\n",
      "Epoch : 6.5 \tRun train acc : 0.462 \t(11560/25020)\t elapsed time : 244m 13s \t (will finish in 507m 12s)\n",
      "Epoch : 6.6 \tRun train acc : 0.463 \t(13897/30020)\t elapsed time : 247m 58s \t (will finish in 503m 24s)\n",
      "Epoch : 6.7 \tRun train acc : 0.465 \t(16271/35020)\t elapsed time : 251m 45s \t (will finish in 499m 43s)\n",
      "Epoch : 6.8 \tRun train acc : 0.465 \t(18605/40020)\t elapsed time : 255m 30s \t (will finish in 495m 56s)\n",
      "Epoch : 6.9 \tRun train acc : 0.465 \t(20950/45020)\t elapsed time : 259m 15s \t (will finish in 492m 10s)\n",
      "Epoch : 7.0 \tRun train acc : 0.465 \t(23272/50000)\t elapsed time : 263m 0s \t (will finish in 488m 25s)\n",
      "Test accuracy :\t 0.4624\n",
      "Epoch : 7.0 \tRun train acc : 0.35 \t(7/20)\t elapsed time : 263m 49s \t (will finish in 489m 54s)\n",
      "Epoch : 7.1 \tRun train acc : 0.47 \t(2360/5020)\t elapsed time : 267m 29s \t (will finish in 485m 57s)\n",
      "Epoch : 7.2 \tRun train acc : 0.472 \t(4727/10020)\t elapsed time : 271m 18s \t (will finish in 482m 16s)\n"
     ]
    },
    {
     "name": "stdout",
     "output_type": "stream",
     "text": [
      "Epoch : 7.3 \tRun train acc : 0.472 \t(7096/15020)\t elapsed time : 275m 6s \t (will finish in 478m 33s)\n",
      "Epoch : 7.4 \tRun train acc : 0.47 \t(9403/20020)\t elapsed time : 278m 22s \t (will finish in 473m 57s)\n",
      "Epoch : 7.5 \tRun train acc : 0.471 \t(11793/25020)\t elapsed time : 281m 31s \t (will finish in 469m 10s)\n",
      "Epoch : 7.6 \tRun train acc : 0.473 \t(14187/30020)\t elapsed time : 285m 13s \t (will finish in 465m 19s)\n",
      "Epoch : 7.7 \tRun train acc : 0.472 \t(16515/35020)\t elapsed time : 289m 11s \t (will finish in 461m 54s)\n",
      "Epoch : 7.8 \tRun train acc : 0.473 \t(18936/40020)\t elapsed time : 292m 45s \t (will finish in 457m 51s)\n",
      "Epoch : 7.9 \tRun train acc : 0.472 \t(21229/45020)\t elapsed time : 296m 33s \t (will finish in 454m 10s)\n",
      "Epoch : 8.0 \tRun train acc : 0.471 \t(23553/50000)\t elapsed time : 300m 19s \t (will finish in 450m 28s)\n",
      "Test accuracy :\t 0.4708\n",
      "Epoch : 8.0 \tRun train acc : 0.4 \t(8/20)\t elapsed time : 301m 7s \t (will finish in 451m 39s)\n",
      "Epoch : 8.1 \tRun train acc : 0.476 \t(2390/5020)\t elapsed time : 304m 28s \t (will finish in 447m 16s)\n",
      "Epoch : 8.2 \tRun train acc : 0.473 \t(4741/10020)\t elapsed time : 307m 23s \t (will finish in 442m 18s)\n",
      "Epoch : 8.3 \tRun train acc : 0.476 \t(7148/15020)\t elapsed time : 311m 12s \t (will finish in 438m 39s)\n",
      "Epoch : 8.4 \tRun train acc : 0.477 \t(9542/20020)\t elapsed time : 314m 58s \t (will finish in 434m 55s)\n",
      "Epoch : 8.5 \tRun train acc : 0.474 \t(11867/25020)\t elapsed time : 318m 48s \t (will finish in 431m 17s)\n",
      "Epoch : 8.6 \tRun train acc : 0.473 \t(14209/30020)\t elapsed time : 322m 29s \t (will finish in 427m 26s)\n",
      "Epoch : 8.7 \tRun train acc : 0.473 \t(16565/35020)\t elapsed time : 325m 56s \t (will finish in 423m 19s)\n",
      "Epoch : 8.8 \tRun train acc : 0.474 \t(18984/40020)\t elapsed time : 329m 35s \t (will finish in 419m 26s)\n",
      "Epoch : 8.9 \tRun train acc : 0.475 \t(21391/45020)\t elapsed time : 333m 9s \t (will finish in 415m 28s)\n",
      "Epoch : 9.0 \tRun train acc : 0.475 \t(23753/50000)\t elapsed time : 336m 48s \t (will finish in 411m 39s)\n",
      "Test accuracy :\t 0.4667\n",
      "Epoch : 9.0 \tRun train acc : 0.55 \t(11/20)\t elapsed time : 337m 38s \t (will finish in 412m 37s)\n",
      "Epoch : 9.1 \tRun train acc : 0.491 \t(2467/5020)\t elapsed time : 341m 12s \t (will finish in 408m 39s)\n",
      "Epoch : 9.2 \tRun train acc : 0.484 \t(4851/10020)\t elapsed time : 345m 3s \t (will finish in 405m 2s)\n",
      "Epoch : 9.3 \tRun train acc : 0.482 \t(7234/15020)\t elapsed time : 348m 50s \t (will finish in 401m 19s)\n",
      "Epoch : 9.4 \tRun train acc : 0.481 \t(9625/20020)\t elapsed time : 352m 27s \t (will finish in 397m 25s)\n",
      "Epoch : 9.5 \tRun train acc : 0.482 \t(12057/25020)\t elapsed time : 356m 17s \t (will finish in 393m 45s)\n",
      "Epoch : 9.6 \tRun train acc : 0.483 \t(14490/30020)\t elapsed time : 359m 43s \t (will finish in 389m 40s)\n",
      "Epoch : 9.7 \tRun train acc : 0.482 \t(16888/35020)\t elapsed time : 363m 27s \t (will finish in 385m 54s)\n",
      "Epoch : 9.8 \tRun train acc : 0.481 \t(19266/40020)\t elapsed time : 367m 20s \t (will finish in 382m 17s)\n",
      "Epoch : 9.9 \tRun train acc : 0.483 \t(21729/45020)\t elapsed time : 371m 8s \t (will finish in 378m 36s)\n",
      "Epoch : 10.0 \tRun train acc : 0.482 \t(24109/50000)\t elapsed time : 374m 32s \t (will finish in 374m 32s)\n",
      "Test accuracy :\t 0.4706\n",
      "Epoch : 10.0 \tRun train acc : 0.25 \t(5/20)\t elapsed time : 375m 22s \t (will finish in 375m 20s)\n",
      "Epoch : 10.1 \tRun train acc : 0.471 \t(2366/5020)\t elapsed time : 379m 5s \t (will finish in 371m 33s)\n",
      "Epoch : 10.2 \tRun train acc : 0.485 \t(4862/10020)\t elapsed time : 382m 55s \t (will finish in 367m 52s)\n",
      "Epoch : 10.3 \tRun train acc : 0.486 \t(7304/15020)\t elapsed time : 386m 29s \t (will finish in 363m 56s)\n",
      "Epoch : 10.4 \tRun train acc : 0.484 \t(9687/20020)\t elapsed time : 390m 20s \t (will finish in 360m 17s)\n",
      "Epoch : 10.5 \tRun train acc : 0.484 \t(12108/25020)\t elapsed time : 394m 11s \t (will finish in 356m 37s)\n",
      "Epoch : 10.6 \tRun train acc : 0.483 \t(14501/30020)\t elapsed time : 397m 59s \t (will finish in 352m 54s)\n",
      "Epoch : 10.7 \tRun train acc : 0.484 \t(16959/35020)\t elapsed time : 401m 32s \t (will finish in 348m 58s)\n",
      "Epoch : 10.8 \tRun train acc : 0.485 \t(19415/40020)\t elapsed time : 405m 21s \t (will finish in 345m 16s)\n",
      "Epoch : 10.9 \tRun train acc : 0.484 \t(21809/45020)\t elapsed time : 408m 43s \t (will finish in 341m 11s)\n",
      "Epoch : 11.0 \tRun train acc : 0.485 \t(24252/50000)\t elapsed time : 412m 30s \t (will finish in 337m 30s)\n",
      "Test accuracy :\t 0.4814\n",
      "Epoch : 11.0 \tRun train acc : 0.5 \t(10/20)\t elapsed time : 413m 18s \t (will finish in 338m 7s)\n",
      "Epoch : 11.1 \tRun train acc : 0.486 \t(2441/5020)\t elapsed time : 417m 10s \t (will finish in 334m 27s)\n",
      "Epoch : 11.2 \tRun train acc : 0.485 \t(4858/10020)\t elapsed time : 420m 58s \t (will finish in 330m 44s)\n",
      "Epoch : 11.3 \tRun train acc : 0.491 \t(7374/15020)\t elapsed time : 424m 31s \t (will finish in 326m 49s)\n",
      "Epoch : 11.4 \tRun train acc : 0.493 \t(9868/20020)\t elapsed time : 428m 6s \t (will finish in 322m 55s)\n",
      "Epoch : 11.5 \tRun train acc : 0.488 \t(12221/25020)\t elapsed time : 431m 51s \t (will finish in 319m 10s)\n",
      "Epoch : 11.6 \tRun train acc : 0.49 \t(14697/30020)\t elapsed time : 435m 23s \t (will finish in 315m 15s)\n",
      "Epoch : 11.7 \tRun train acc : 0.489 \t(17108/35020)\t elapsed time : 439m 18s \t (will finish in 311m 37s)\n",
      "Epoch : 11.8 \tRun train acc : 0.489 \t(19578/40020)\t elapsed time : 443m 6s \t (will finish in 307m 54s)\n",
      "Epoch : 11.9 \tRun train acc : 0.49 \t(22040/45020)\t elapsed time : 446m 26s \t (will finish in 303m 51s)\n",
      "Epoch : 12.0 \tRun train acc : 0.489 \t(24431/50000)\t elapsed time : 449m 55s \t (will finish in 299m 57s)\n",
      "Test accuracy :\t 0.4864\n",
      "Epoch : 12.0 \tRun train acc : 0.55 \t(11/20)\t elapsed time : 450m 44s \t (will finish in 300m 27s)\n",
      "Epoch : 12.1 \tRun train acc : 0.498 \t(2501/5020)\t elapsed time : 454m 2s \t (will finish in 296m 24s)\n",
      "Epoch : 12.2 \tRun train acc : 0.493 \t(4936/10020)\t elapsed time : 457m 36s \t (will finish in 292m 32s)\n",
      "Epoch : 12.3 \tRun train acc : 0.493 \t(7401/15020)\t elapsed time : 461m 23s \t (will finish in 288m 48s)\n",
      "Epoch : 12.4 \tRun train acc : 0.492 \t(9853/20020)\t elapsed time : 465m 16s \t (will finish in 285m 8s)\n",
      "Epoch : 12.5 \tRun train acc : 0.49 \t(12264/25020)\t elapsed time : 468m 7s \t (will finish in 280m 51s)\n",
      "Epoch : 12.6 \tRun train acc : 0.489 \t(14680/30020)\t elapsed time : 471m 55s \t (will finish in 277m 8s)\n",
      "Epoch : 12.7 \tRun train acc : 0.489 \t(17125/35020)\t elapsed time : 475m 46s \t (will finish in 273m 27s)\n",
      "Epoch : 12.8 \tRun train acc : 0.489 \t(19585/40020)\t elapsed time : 479m 23s \t (will finish in 269m 37s)\n",
      "Epoch : 12.9 \tRun train acc : 0.492 \t(22129/45020)\t elapsed time : 483m 13s \t (will finish in 265m 56s)\n",
      "Epoch : 13.0 \tRun train acc : 0.491 \t(24540/50000)\t elapsed time : 486m 47s \t (will finish in 262m 7s)\n",
      "Test accuracy :\t 0.4914\n",
      "Epoch : 13.0 \tRun train acc : 0.5 \t(10/20)\t elapsed time : 487m 34s \t (will finish in 262m 30s)\n",
      "Epoch : 13.1 \tRun train acc : 0.489 \t(2456/5020)\t elapsed time : 490m 50s \t (will finish in 258m 30s)\n",
      "Epoch : 13.2 \tRun train acc : 0.496 \t(4969/10020)\t elapsed time : 494m 39s \t (will finish in 254m 48s)\n",
      "Epoch : 13.3 \tRun train acc : 0.499 \t(7492/15020)\t elapsed time : 498m 5s \t (will finish in 250m 53s)\n",
      "Epoch : 13.4 \tRun train acc : 0.497 \t(9959/20020)\t elapsed time : 501m 54s \t (will finish in 247m 10s)\n",
      "Epoch : 13.5 \tRun train acc : 0.498 \t(12464/25020)\t elapsed time : 505m 37s \t (will finish in 243m 25s)\n",
      "Epoch : 13.6 \tRun train acc : 0.497 \t(14905/30020)\t elapsed time : 509m 29s \t (will finish in 239m 44s)\n",
      "Epoch : 13.7 \tRun train acc : 0.496 \t(17367/35020)\t elapsed time : 513m 18s \t (will finish in 236m 1s)\n",
      "Epoch : 13.8 \tRun train acc : 0.495 \t(19826/40020)\t elapsed time : 516m 24s \t (will finish in 231m 59s)\n",
      "Epoch : 13.9 \tRun train acc : 0.495 \t(22276/45020)\t elapsed time : 519m 57s \t (will finish in 228m 9s)\n",
      "Epoch : 14.0 \tRun train acc : 0.495 \t(24739/50000)\t elapsed time : 523m 47s \t (will finish in 224m 28s)\n",
      "Test accuracy :\t 0.4909\n",
      "Epoch : 14.0 \tRun train acc : 0.65 \t(13/20)\t elapsed time : 524m 35s \t (will finish in 224m 48s)\n",
      "Epoch : 14.1 \tRun train acc : 0.494 \t(2482/5020)\t elapsed time : 528m 3s \t (will finish in 220m 56s)\n",
      "Epoch : 14.2 \tRun train acc : 0.498 \t(4986/10020)\t elapsed time : 531m 58s \t (will finish in 217m 15s)\n",
      "Epoch : 14.3 \tRun train acc : 0.497 \t(7471/15020)\t elapsed time : 535m 51s \t (will finish in 213m 34s)\n",
      "Epoch : 14.4 \tRun train acc : 0.498 \t(9975/20020)\t elapsed time : 538m 58s \t (will finish in 209m 34s)\n"
     ]
    },
    {
     "name": "stdout",
     "output_type": "stream",
     "text": [
      "Epoch : 14.5 \tRun train acc : 0.497 \t(12446/25020)\t elapsed time : 542m 44s \t (will finish in 205m 50s)\n",
      "Epoch : 14.6 \tRun train acc : 0.499 \t(14967/30020)\t elapsed time : 546m 30s \t (will finish in 202m 6s)\n",
      "Epoch : 14.7 \tRun train acc : 0.498 \t(17430/35020)\t elapsed time : 550m 10s \t (will finish in 198m 20s)\n",
      "Epoch : 14.8 \tRun train acc : 0.499 \t(19966/40020)\t elapsed time : 553m 58s \t (will finish in 194m 37s)\n",
      "Epoch : 14.9 \tRun train acc : 0.499 \t(22453/45020)\t elapsed time : 557m 11s \t (will finish in 190m 41s)\n",
      "Epoch : 15.0 \tRun train acc : 0.5 \t(24997/50000)\t elapsed time : 560m 52s \t (will finish in 186m 57s)\n",
      "Test accuracy :\t 0.5002\n",
      "Epoch : 15.0 \tRun train acc : 0.4 \t(8/20)\t elapsed time : 561m 39s \t (will finish in 187m 12s)\n",
      "Epoch : 15.1 \tRun train acc : 0.502 \t(2521/5020)\t elapsed time : 565m 15s \t (will finish in 183m 24s)\n",
      "Epoch : 15.2 \tRun train acc : 0.504 \t(5055/10020)\t elapsed time : 569m 1s \t (will finish in 179m 40s)\n",
      "Epoch : 15.3 \tRun train acc : 0.503 \t(7560/15020)\t elapsed time : 572m 29s \t (will finish in 175m 50s)\n",
      "Epoch : 15.4 \tRun train acc : 0.503 \t(10075/20020)\t elapsed time : 575m 55s \t (will finish in 172m 0s)\n",
      "Epoch : 15.5 \tRun train acc : 0.504 \t(12607/25020)\t elapsed time : 579m 26s \t (will finish in 168m 12s)\n",
      "Epoch : 15.6 \tRun train acc : 0.505 \t(15147/30020)\t elapsed time : 582m 56s \t (will finish in 164m 24s)\n",
      "Epoch : 15.7 \tRun train acc : 0.505 \t(17671/35020)\t elapsed time : 586m 28s \t (will finish in 160m 36s)\n",
      "Epoch : 15.8 \tRun train acc : 0.503 \t(20146/40020)\t elapsed time : 590m 22s \t (will finish in 156m 54s)\n",
      "Epoch : 15.9 \tRun train acc : 0.504 \t(22673/45020)\t elapsed time : 594m 1s \t (will finish in 153m 9s)\n",
      "Epoch : 16.0 \tRun train acc : 0.503 \t(25161/50000)\t elapsed time : 597m 45s \t (will finish in 149m 26s)\n",
      "Test accuracy :\t 0.5035\n",
      "Epoch : 16.0 \tRun train acc : 0.35 \t(7/20)\t elapsed time : 598m 34s \t (will finish in 149m 37s)\n",
      "Epoch : 16.1 \tRun train acc : 0.515 \t(2584/5020)\t elapsed time : 601m 53s \t (will finish in 145m 46s)\n",
      "Epoch : 16.2 \tRun train acc : 0.508 \t(5088/10020)\t elapsed time : 605m 20s \t (will finish in 141m 58s)\n",
      "Epoch : 16.3 \tRun train acc : 0.503 \t(7558/15020)\t elapsed time : 609m 7s \t (will finish in 138m 15s)\n",
      "Epoch : 16.4 \tRun train acc : 0.505 \t(10105/20020)\t elapsed time : 612m 52s \t (will finish in 134m 31s)\n",
      "Epoch : 16.5 \tRun train acc : 0.507 \t(12679/25020)\t elapsed time : 616m 36s \t (will finish in 130m 46s)\n",
      "Epoch : 16.6 \tRun train acc : 0.506 \t(15190/30020)\t elapsed time : 620m 25s \t (will finish in 127m 3s)\n",
      "Epoch : 16.7 \tRun train acc : 0.507 \t(17759/35020)\t elapsed time : 624m 17s \t (will finish in 123m 20s)\n",
      "Epoch : 16.8 \tRun train acc : 0.508 \t(20315/40020)\t elapsed time : 627m 51s \t (will finish in 119m 34s)\n",
      "Epoch : 16.9 \tRun train acc : 0.507 \t(22818/45020)\t elapsed time : 631m 40s \t (will finish in 115m 51s)\n",
      "Epoch : 17.0 \tRun train acc : 0.508 \t(25391/50000)\t elapsed time : 635m 31s \t (will finish in 112m 9s)\n",
      "Test accuracy :\t 0.5014\n",
      "Epoch : 17.0 \tRun train acc : 0.45 \t(9/20)\t elapsed time : 636m 21s \t (will finish in 112m 16s)\n",
      "Epoch : 17.1 \tRun train acc : 0.514 \t(2581/5020)\t elapsed time : 639m 58s \t (will finish in 108m 30s)\n",
      "Epoch : 17.2 \tRun train acc : 0.513 \t(5145/10020)\t elapsed time : 643m 44s \t (will finish in 104m 46s)\n",
      "Epoch : 17.3 \tRun train acc : 0.515 \t(7735/15020)\t elapsed time : 647m 35s \t (will finish in 101m 3s)\n",
      "Epoch : 17.4 \tRun train acc : 0.514 \t(10300/20020)\t elapsed time : 651m 23s \t (will finish in 97m 19s)\n",
      "Epoch : 17.5 \tRun train acc : 0.512 \t(12817/25020)\t elapsed time : 655m 13s \t (will finish in 93m 35s)\n",
      "Epoch : 17.6 \tRun train acc : 0.513 \t(15395/30020)\t elapsed time : 658m 55s \t (will finish in 89m 50s)\n",
      "Epoch : 17.7 \tRun train acc : 0.511 \t(17895/35020)\t elapsed time : 662m 23s \t (will finish in 86m 3s)\n",
      "Epoch : 17.8 \tRun train acc : 0.512 \t(20480/40020)\t elapsed time : 666m 7s \t (will finish in 82m 18s)\n",
      "Epoch : 17.9 \tRun train acc : 0.513 \t(23075/45020)\t elapsed time : 669m 39s \t (will finish in 78m 32s)\n",
      "Epoch : 18.0 \tRun train acc : 0.513 \t(25627/50000)\t elapsed time : 673m 16s \t (will finish in 74m 48s)\n",
      "Test accuracy :\t 0.5024\n",
      "Epoch : 18.0 \tRun train acc : 0.45 \t(9/20)\t elapsed time : 674m 3s \t (will finish in 74m 52s)\n",
      "Epoch : 18.1 \tRun train acc : 0.505 \t(2533/5020)\t elapsed time : 677m 48s \t (will finish in 71m 8s)\n",
      "Epoch : 18.2 \tRun train acc : 0.513 \t(5140/10020)\t elapsed time : 681m 35s \t (will finish in 67m 23s)\n",
      "Epoch : 18.3 \tRun train acc : 0.51 \t(7667/15020)\t elapsed time : 685m 24s \t (will finish in 63m 39s)\n",
      "Epoch : 18.4 \tRun train acc : 0.519 \t(10385/20020)\t elapsed time : 689m 12s \t (will finish in 59m 54s)\n",
      "Epoch : 18.5 \tRun train acc : 0.519 \t(12974/25020)\t elapsed time : 692m 45s \t (will finish in 56m 9s)\n",
      "Epoch : 18.6 \tRun train acc : 0.517 \t(15508/30020)\t elapsed time : 696m 32s \t (will finish in 52m 24s)\n",
      "Epoch : 18.7 \tRun train acc : 0.516 \t(18084/35020)\t elapsed time : 700m 2s \t (will finish in 48m 39s)\n",
      "Epoch : 18.8 \tRun train acc : 0.516 \t(20656/40020)\t elapsed time : 703m 34s \t (will finish in 44m 53s)\n",
      "Epoch : 18.9 \tRun train acc : 0.516 \t(23226/45020)\t elapsed time : 707m 26s \t (will finish in 41m 9s)\n",
      "Epoch : 19.0 \tRun train acc : 0.516 \t(25825/50000)\t elapsed time : 711m 18s \t (will finish in 37m 26s)\n",
      "Test accuracy :\t 0.5089\n",
      "Epoch : 19.0 \tRun train acc : 0.7 \t(14/20)\t elapsed time : 712m 9s \t (will finish in 37m 27s)\n",
      "Epoch : 19.1 \tRun train acc : 0.508 \t(2548/5020)\t elapsed time : 715m 55s \t (will finish in 33m 43s)\n",
      "Epoch : 19.2 \tRun train acc : 0.516 \t(5174/10020)\t elapsed time : 719m 40s \t (will finish in 29m 58s)\n",
      "Epoch : 19.3 \tRun train acc : 0.516 \t(7756/15020)\t elapsed time : 723m 1s \t (will finish in 26m 12s)\n",
      "Epoch : 19.4 \tRun train acc : 0.516 \t(10339/20020)\t elapsed time : 726m 44s \t (will finish in 22m 27s)\n",
      "Epoch : 19.5 \tRun train acc : 0.52 \t(13010/25020)\t elapsed time : 730m 20s \t (will finish in 18m 42s)\n",
      "Epoch : 19.6 \tRun train acc : 0.521 \t(15649/30020)\t elapsed time : 733m 45s \t (will finish in 14m 57s)\n",
      "Epoch : 19.7 \tRun train acc : 0.52 \t(18220/35020)\t elapsed time : 736m 49s \t (will finish in 11m 12s)\n",
      "Epoch : 19.8 \tRun train acc : 0.52 \t(20805/40020)\t elapsed time : 740m 9s \t (will finish in 7m 27s)\n",
      "Epoch : 19.9 \tRun train acc : 0.52 \t(23420/45020)\t elapsed time : 744m 2s \t (will finish in 3m 43s)\n",
      "Epoch : 20.0 \tRun train acc : 0.52 \t(26018/50000)\t elapsed time : 747m 34s \t (will finish in 0m 0s)\n",
      "Test accuracy :\t 0.518\n"
     ]
    }
   ],
   "source": [
    "model = model.to(device)\n",
    "train(model, optimizer, train_loader, test_loader, args.T1, args.T2, args.betas, device, 20, criterion, alg=args.alg, \n",
    "                 random_sign=True, check_thm=False, save=False, path=path, checkpoint=None, \n",
    "                 thirdphase=True, scheduler=None, cep_debug=False)"
   ]
  },
  {
   "cell_type": "code",
   "execution_count": 108,
   "id": "542fbe3a",
   "metadata": {
    "scrolled": true
   },
   "outputs": [
    {
     "name": "stdout",
     "output_type": "stream",
     "text": [
      "Epoch : 0.0 \tRun train acc : 0.65 \t(13/20)\t elapsed time : 0m 1s \t (will finish in 54m 27s)\n"
     ]
    },
    {
     "ename": "KeyboardInterrupt",
     "evalue": "",
     "output_type": "error",
     "traceback": [
      "\u001b[0;31m---------------------------------------------------------------------------\u001b[0m",
      "\u001b[0;31mKeyboardInterrupt\u001b[0m                         Traceback (most recent call last)",
      "\u001b[0;32m<ipython-input-108-fcf6bdfadc95>\u001b[0m in \u001b[0;36m<module>\u001b[0;34m\u001b[0m\n\u001b[1;32m      2\u001b[0m train(model, optimizer, train_loader, test_loader, args.T1, args.T2, args.betas, device, 1, criterion, alg=args.alg, \n\u001b[1;32m      3\u001b[0m                  \u001b[0mrandom_sign\u001b[0m\u001b[0;34m=\u001b[0m\u001b[0;32mTrue\u001b[0m\u001b[0;34m,\u001b[0m \u001b[0mcheck_thm\u001b[0m\u001b[0;34m=\u001b[0m\u001b[0;32mFalse\u001b[0m\u001b[0;34m,\u001b[0m \u001b[0msave\u001b[0m\u001b[0;34m=\u001b[0m\u001b[0;32mTrue\u001b[0m\u001b[0;34m,\u001b[0m \u001b[0mpath\u001b[0m\u001b[0;34m=\u001b[0m\u001b[0mpath\u001b[0m\u001b[0;34m,\u001b[0m \u001b[0mcheckpoint\u001b[0m\u001b[0;34m=\u001b[0m\u001b[0;32mNone\u001b[0m\u001b[0;34m,\u001b[0m\u001b[0;34m\u001b[0m\u001b[0;34m\u001b[0m\u001b[0m\n\u001b[0;32m----> 4\u001b[0;31m                  thirdphase=True, scheduler=None, cep_debug=False)\n\u001b[0m",
      "\u001b[0;32m~/Desktop/Rusty_EP/S+B-Equilibrium-Propagation/model_utils.py\u001b[0m in \u001b[0;36mtrain\u001b[0;34m(model, optimizer, train_loader, test_loader, T1, T2, betas, device, epochs, criterion, alg, random_sign, save, check_thm, path, checkpoint, thirdphase, scheduler, cep_debug)\u001b[0m\n\u001b[1;32m   1064\u001b[0m             \u001b[0;32mif\u001b[0m \u001b[0malg\u001b[0m\u001b[0;34m==\u001b[0m\u001b[0;34m'EP'\u001b[0m \u001b[0;32mor\u001b[0m \u001b[0malg\u001b[0m\u001b[0;34m==\u001b[0m\u001b[0;34m'CEP'\u001b[0m\u001b[0;34m:\u001b[0m\u001b[0;34m\u001b[0m\u001b[0;34m\u001b[0m\u001b[0m\n\u001b[1;32m   1065\u001b[0m                 \u001b[0;31m# First phase\u001b[0m\u001b[0;34m\u001b[0m\u001b[0;34m\u001b[0m\u001b[0;34m\u001b[0m\u001b[0m\n\u001b[0;32m-> 1066\u001b[0;31m                 \u001b[0mneurons\u001b[0m \u001b[0;34m=\u001b[0m \u001b[0mmodel\u001b[0m\u001b[0;34m(\u001b[0m\u001b[0mx\u001b[0m\u001b[0;34m,\u001b[0m \u001b[0my\u001b[0m\u001b[0;34m,\u001b[0m \u001b[0mneurons\u001b[0m\u001b[0;34m,\u001b[0m \u001b[0mT1\u001b[0m\u001b[0;34m,\u001b[0m \u001b[0mbeta\u001b[0m\u001b[0;34m=\u001b[0m\u001b[0mbeta_1\u001b[0m\u001b[0;34m,\u001b[0m \u001b[0mcriterion\u001b[0m\u001b[0;34m=\u001b[0m\u001b[0mcriterion\u001b[0m\u001b[0;34m)\u001b[0m\u001b[0;34m\u001b[0m\u001b[0;34m\u001b[0m\u001b[0m\n\u001b[0m\u001b[1;32m   1067\u001b[0m                 \u001b[0mneurons_1\u001b[0m \u001b[0;34m=\u001b[0m \u001b[0mcopy\u001b[0m\u001b[0;34m(\u001b[0m\u001b[0mneurons\u001b[0m\u001b[0;34m)\u001b[0m\u001b[0;34m\u001b[0m\u001b[0;34m\u001b[0m\u001b[0m\n\u001b[1;32m   1068\u001b[0m             \u001b[0;32melif\u001b[0m \u001b[0malg\u001b[0m\u001b[0;34m==\u001b[0m\u001b[0;34m'BPTT'\u001b[0m\u001b[0;34m:\u001b[0m\u001b[0;34m\u001b[0m\u001b[0;34m\u001b[0m\u001b[0m\n",
      "\u001b[0;32m~/anaconda3/envs/EP/lib/python3.6/site-packages/torch/nn/modules/module.py\u001b[0m in \u001b[0;36m_call_impl\u001b[0;34m(self, *input, **kwargs)\u001b[0m\n\u001b[1;32m   1100\u001b[0m         if not (self._backward_hooks or self._forward_hooks or self._forward_pre_hooks or _global_backward_hooks\n\u001b[1;32m   1101\u001b[0m                 or _global_forward_hooks or _global_forward_pre_hooks):\n\u001b[0;32m-> 1102\u001b[0;31m             \u001b[0;32mreturn\u001b[0m \u001b[0mforward_call\u001b[0m\u001b[0;34m(\u001b[0m\u001b[0;34m*\u001b[0m\u001b[0minput\u001b[0m\u001b[0;34m,\u001b[0m \u001b[0;34m**\u001b[0m\u001b[0mkwargs\u001b[0m\u001b[0;34m)\u001b[0m\u001b[0;34m\u001b[0m\u001b[0;34m\u001b[0m\u001b[0m\n\u001b[0m\u001b[1;32m   1103\u001b[0m         \u001b[0;31m# Do not call functions when jit is used\u001b[0m\u001b[0;34m\u001b[0m\u001b[0;34m\u001b[0m\u001b[0;34m\u001b[0m\u001b[0m\n\u001b[1;32m   1104\u001b[0m         \u001b[0mfull_backward_hooks\u001b[0m\u001b[0;34m,\u001b[0m \u001b[0mnon_full_backward_hooks\u001b[0m \u001b[0;34m=\u001b[0m \u001b[0;34m[\u001b[0m\u001b[0;34m]\u001b[0m\u001b[0;34m,\u001b[0m \u001b[0;34m[\u001b[0m\u001b[0;34m]\u001b[0m\u001b[0;34m\u001b[0m\u001b[0;34m\u001b[0m\u001b[0m\n",
      "\u001b[0;32m~/Desktop/Rusty_EP/S+B-Equilibrium-Propagation/model_utils.py\u001b[0m in \u001b[0;36mforward\u001b[0;34m(self, x, y, neurons, T, beta, criterion, check_thm)\u001b[0m\n\u001b[1;32m    540\u001b[0m \u001b[0;34m\u001b[0m\u001b[0m\n\u001b[1;32m    541\u001b[0m                 \u001b[0;32mfor\u001b[0m \u001b[0midx\u001b[0m \u001b[0;32min\u001b[0m \u001b[0mrange\u001b[0m\u001b[0;34m(\u001b[0m\u001b[0mlen\u001b[0m\u001b[0;34m(\u001b[0m\u001b[0mneurons\u001b[0m\u001b[0;34m)\u001b[0m\u001b[0;34m-\u001b[0m\u001b[0;36m1\u001b[0m\u001b[0;34m)\u001b[0m\u001b[0;34m:\u001b[0m\u001b[0;34m\u001b[0m\u001b[0;34m\u001b[0m\u001b[0m\n\u001b[0;32m--> 542\u001b[0;31m                     \u001b[0mneurons\u001b[0m\u001b[0;34m[\u001b[0m\u001b[0midx\u001b[0m\u001b[0;34m]\u001b[0m \u001b[0;34m=\u001b[0m \u001b[0mself\u001b[0m\u001b[0;34m.\u001b[0m\u001b[0mactivation\u001b[0m\u001b[0;34m(\u001b[0m \u001b[0mgrads\u001b[0m\u001b[0;34m[\u001b[0m\u001b[0midx\u001b[0m\u001b[0;34m]\u001b[0m \u001b[0;34m)\u001b[0m\u001b[0;34m\u001b[0m\u001b[0;34m\u001b[0m\u001b[0m\n\u001b[0m\u001b[1;32m    543\u001b[0m                     \u001b[0mneurons\u001b[0m\u001b[0;34m[\u001b[0m\u001b[0midx\u001b[0m\u001b[0;34m]\u001b[0m\u001b[0;34m.\u001b[0m\u001b[0mrequires_grad\u001b[0m \u001b[0;34m=\u001b[0m \u001b[0;32mTrue\u001b[0m\u001b[0;34m\u001b[0m\u001b[0;34m\u001b[0m\u001b[0m\n\u001b[1;32m    544\u001b[0m \u001b[0;34m\u001b[0m\u001b[0m\n",
      "\u001b[0;32m~/Desktop/Rusty_EP/S+B-Equilibrium-Propagation/model_utils.py\u001b[0m in \u001b[0;36mhard_sigmoid\u001b[0;34m(x)\u001b[0m\n\u001b[1;32m     23\u001b[0m \u001b[0;34m\u001b[0m\u001b[0m\n\u001b[1;32m     24\u001b[0m \u001b[0;32mdef\u001b[0m \u001b[0mhard_sigmoid\u001b[0m\u001b[0;34m(\u001b[0m\u001b[0mx\u001b[0m\u001b[0;34m)\u001b[0m\u001b[0;34m:\u001b[0m\u001b[0;34m\u001b[0m\u001b[0;34m\u001b[0m\u001b[0m\n\u001b[0;32m---> 25\u001b[0;31m     \u001b[0;32mreturn\u001b[0m \u001b[0;34m(\u001b[0m\u001b[0;36m1\u001b[0m\u001b[0;34m+\u001b[0m\u001b[0mF\u001b[0m\u001b[0;34m.\u001b[0m\u001b[0mhardtanh\u001b[0m\u001b[0;34m(\u001b[0m\u001b[0;36m2\u001b[0m\u001b[0;34m*\u001b[0m\u001b[0mx\u001b[0m\u001b[0;34m-\u001b[0m\u001b[0;36m1\u001b[0m\u001b[0;34m)\u001b[0m\u001b[0;34m)\u001b[0m\u001b[0;34m*\u001b[0m\u001b[0;36m0.5\u001b[0m\u001b[0;34m\u001b[0m\u001b[0;34m\u001b[0m\u001b[0m\n\u001b[0m\u001b[1;32m     26\u001b[0m \u001b[0;34m\u001b[0m\u001b[0m\n\u001b[1;32m     27\u001b[0m \u001b[0;32mdef\u001b[0m \u001b[0mctrd_hard_sig\u001b[0m\u001b[0;34m(\u001b[0m\u001b[0mx\u001b[0m\u001b[0;34m)\u001b[0m\u001b[0;34m:\u001b[0m\u001b[0;34m\u001b[0m\u001b[0;34m\u001b[0m\u001b[0m\n",
      "\u001b[0;31mKeyboardInterrupt\u001b[0m: "
     ]
    }
   ],
   "source": [
    "model = model.to(device)\n",
    "train(model, optimizer, train_loader, test_loader, args.T1, args.T2, args.betas, device, 1, criterion, alg=args.alg, \n",
    "                 random_sign=True, check_thm=False, save=True, path=path, checkpoint=None, \n",
    "                 thirdphase=True, scheduler=None, cep_debug=False)"
   ]
  },
  {
   "cell_type": "code",
   "execution_count": 115,
   "id": "e0f1670b",
   "metadata": {},
   "outputs": [],
   "source": [
    "scheduler = None\n",
    "train_acc = 0.52\n",
    "test_acc = 0.518\n",
    "best = 0.518\n",
    "epoch_sofar = 41\n",
    "epoch = 1\n",
    "save_dic = {'model_state_dict': model.state_dict(), 'opt': optimizer.state_dict(),\n",
    "                'train_acc': train_acc, 'test_acc': test_acc, \n",
    "                'best': best, 'epoch': epoch_sofar+epoch+1}\n",
    "# save_dic['angles'] = angles\n",
    "save_dic['scheduler'] = scheduler.state_dict() if scheduler is not None else None\n",
    "torch.save(save_dic,  path + '/checkpoint.tar')\n",
    "torch.save(model, path + '/model.pt')"
   ]
  },
  {
   "cell_type": "markdown",
   "id": "1a094363",
   "metadata": {},
   "source": [
    "## save this version of the model before adding to it for comparison"
   ]
  },
  {
   "cell_type": "markdown",
   "id": "0e6e7973",
   "metadata": {},
   "source": [
    "# add lateral connections + attention heads to trained model"
   ]
  },
  {
   "cell_type": "markdown",
   "id": "8a4b9f50",
   "metadata": {},
   "source": [
    "## split into multiple attention heads\n",
    "inhibitory connections creating a sparse layer may require 10x more neurons in that layer (like 10 attention heads)"
   ]
  },
  {
   "cell_type": "code",
   "execution_count": null,
   "id": "efe628c3",
   "metadata": {},
   "outputs": [],
   "source": [
    "class Lat_MH_CNN(P_CNN): # lateral-connectivity, mulit-head CNN\n",
    "    def __init__(self, lat_heads, in_size, channels, kernels, strides, fc, pools, paddings, activation=hard_sigmoid, softmax=False):\n",
    "        # initialize default P_CNN structure, without the final fully connected layer\n",
    "        super(Lat_MH_CNN, self).__init__(in_size, channels, kernels, strides, [], pools, paddings, activation=activation, softmax=softmax)\n",
    "        \n",
    "        self.lat_heads = lat_heads\n",
    "        \n",
    "        size = in_size\n",
    "        \n",
    "        or idx in range(len(channels)-1): \n",
    "            # layers have already been added by super(), just compute the size\n",
    "#             self.synapses.append(torch.nn.Conv2d(channels[idx], channels[idx+1], kernels[idx], \n",
    "#                                                  stride=strides[idx], padding=paddings[idx], bias=True))\n",
    "                \n",
    "            size = int( (size + 2*paddings[idx] - kernels[idx])/strides[idx] + 1 )          # size after conv\n",
    "            if self.pools[idx].__class__.__name__.find('Pool')!=-1:\n",
    "                size = int( (size - pools[idx].kernel_size)/pools[idx].stride + 1 )   # size after Pool\n",
    "\n",
    "        size = size * size * channels[-1]        \n",
    "        \n",
    "        \n",
    "        # split into multiple linear projections, use lateral connections to form attention\n",
    "        self.head_encoders = torch.nn.ModuleList()\n",
    "        self.head_hopfield = torch.nn.ModuleList()\n",
    "#         self.head_decodes = torch.nn.ModuleList()\n",
    "        for idx in range(len(lat_heads)):\n",
    "            # projects from the last convolutional layer, uses lateral connection, then projects back\n",
    "            self.head_encoders.append(torch.nn.Linear(size, lat_heads[idx], False))\n",
    "            self.head_hopfield.append(torch.nn.Linear(lat_heads[idx], lat_heads[idx], bias=False))\n",
    "            # should head encoder and hopfield have bias?\n",
    "        size = torch.sum(lat_heads)\n",
    "        \n",
    "        # fully connect it back down to output dimension\n",
    "        fc_layers = [size] + fc\n",
    "        for idx in range(len(fc)):\n",
    "            self.synapses.append(torch.nn.Linear(fc_layers[idx], fc_layers[idx+1], bias=True))\n",
    "        \n",
    "            \n",
    "    def Phi(self, x, y, neurons, head_neurons, beta, criterion):\n",
    "\n",
    "        mbs = x.size(0)       \n",
    "        conv_len = len(self.kernels)\n",
    "        heads = len(self.lat_heads)\n",
    "        tot_len = len(self.synapses)\n",
    "\n",
    "        layers = [x] + neurons        \n",
    "        phi = 0.0\n",
    "\n",
    "        #Phi computation changes depending on softmax == True or not\n",
    "        for idx in range(conv_len):    \n",
    "            phi += torch.sum( self.pools[idx](self.synapses[idx](layers[idx])) * layers[idx+1], dim=(1,2,3)).squeeze()  \n",
    "        \n",
    "        for j in range(heads):\n",
    "            phi += self.head_encoders[j](layers[conv_len]) * layers[conv_len+j]\n",
    "            phi += self.head_hopfield[j](layers[conv_len+j]) * layers[conv_len+j]\n",
    "            \n",
    "        if not self.softmax:\n",
    "            for idx in range(conv_len, tot_len):\n",
    "                layeridx = idx + heads\n",
    "                phi += torch.sum( self.synapses[idx](layers[layeridx].view(mbs,-1)) * layers[layeridx+1], dim=1).squeeze()\n",
    "             \n",
    "            if beta!=0.0:\n",
    "                if criterion.__class__.__name__.find('MSE')!=-1:\n",
    "                    y = F.one_hot(y, num_classes=self.nc)\n",
    "                    L = 0.5*criterion(layers[-1].float(), y.float()).sum(dim=1).squeeze()   \n",
    "                else:\n",
    "                    L = criterion(layers[-1].float(), y).squeeze()             \n",
    "                phi -= beta*L\n",
    "\n",
    "        else:\n",
    "            # the output layer used for the prediction is no longer part of the system ! Summing until len(self.synapses) - 1 only\n",
    "            for idx in range(conv_len, tot_len-1):\n",
    "                layeridx = idx + heads\n",
    "                phi += torch.sum( self.synapses[idx](layers[layeridx].view(mbs,-1)) * layers[layeridx+1], dim=1).squeeze()\n",
    "             \n",
    "            # the prediction is made with softmax[last weights[penultimate layer]]\n",
    "            if beta!=0.0:\n",
    "                L = criterion(self.synapses[-1](layers[-1].view(mbs,-1)).float(), y).squeeze()             \n",
    "                phi -= beta*L            \n",
    "        \n",
    "        return phi\n",
    "    \n",
    "#     def init_neurons(self, mbs, device):\n",
    "        \n",
    "#         neurons = []\n",
    "#         append = neurons.append\n",
    "#         size = self.in_size\n",
    "#         for idx in range(len(self.channels)-1): \n",
    "#             size = int( (size + 2*self.paddings[idx] - self.kernels[idx])/self.strides[idx] + 1 )   # size after conv\n",
    "#             if self.pools[idx].__class__.__name__.find('Pool')!=-1:\n",
    "#                 size = int( (size - self.pools[idx].kernel_size)/self.pools[idx].stride + 1 )  # size after Pool\n",
    "#             append(torch.zeros((mbs, self.channels[idx+1], size, size), requires_grad=True, device=device))\n",
    "\n",
    "#         size = size * size * self.channels[-1]\n",
    "        \n",
    "# #         head_neurons = []\n",
    "#         for j in range(len(self.lat_heads)):\n",
    "#             neurons.append(torch.zeros((mbs, self.lat_heads[j])), requires_grad=True, device=device)\n",
    "        \n",
    "#         if not self.softmax:\n",
    "#             for idx in range(len(self.fc)):\n",
    "#                 append(torch.zeros((mbs, self.fc[idx]), requires_grad=True, device=device))\n",
    "#         else:\n",
    "#             # we *REMOVE* the output layer from the system\n",
    "#             for idx in range(len(self.fc) - 1):\n",
    "#                 append(torch.zeros((mbs, self.fc[idx]), requires_grad=True, device=device))            \n",
    "            \n",
    "#         return neurons\n",
    "    \n",
    "    def compute_syn_grads(self, x, y, neurons_1, neurons_2, betas, criterion, check_thm=False):\n",
    "        \n",
    "        beta_1, beta_2 = betas\n",
    "        \n",
    "        self.zero_grad()            # p.grad is zero\n",
    "        if not(check_thm):\n",
    "            phi_1 = self.Phi(x, y, neurons_1, beta_1, criterion)\n",
    "        else:\n",
    "            phi_1 = self.Phi(x, y, neurons_1, beta_2, criterion)\n",
    "        phi_1 = phi_1.mean()\n",
    "        \n",
    "        phi_2 = self.Phi(x, y, neurons_2, beta_2, criterion)\n",
    "        phi_2 = phi_2.mean()\n",
    "        \n",
    "        delta_phi = (phi_2 - phi_1)/(beta_1 - beta_2)        \n",
    "        delta_phi.backward() # p.grad = -(d_Phi_2/dp - d_Phi_1/dp)/(beta_2 - beta_1) ----> dL/dp  by the theorem\n",
    "        \n",
    "        # force hopfield / lateral connections to be symmetric (backwards and forward weights the same)\n",
    "        for j in range(len(self.lat_heads)):\n",
    "            self.head_hopfield[j] = 0.5 * (self.head_hopfield[j] + self.head_hopfield[j].T)"
   ]
  },
  {
   "cell_type": "markdown",
   "id": "2b66b054",
   "metadata": {},
   "source": [
    "## initiate with zeros"
   ]
  },
  {
   "cell_type": "markdown",
   "id": "14939f38",
   "metadata": {},
   "source": [
    "## initiate with inhibitory connections to enforce sparsity"
   ]
  },
  {
   "cell_type": "markdown",
   "id": "9dba1445",
   "metadata": {},
   "source": [
    "## copy of the original model, with multiplied heads"
   ]
  },
  {
   "cell_type": "markdown",
   "id": "4ea321f3",
   "metadata": {},
   "source": [
    "# train these three models"
   ]
  },
  {
   "cell_type": "markdown",
   "id": "ef730e0b",
   "metadata": {},
   "source": [
    "# compare pre-lateral connections, initially zero lateral connections, and inhibitory lateral connection model"
   ]
  },
  {
   "cell_type": "markdown",
   "id": "7c81b335",
   "metadata": {},
   "source": [
    "# visualize learned features"
   ]
  },
  {
   "cell_type": "markdown",
   "id": "c82168fa",
   "metadata": {},
   "source": [
    "## clamp feature neuron to 1, display fixed point input layer"
   ]
  },
  {
   "cell_type": "code",
   "execution_count": null,
   "id": "67cb7ba6",
   "metadata": {},
   "outputs": [],
   "source": []
  }
 ],
 "metadata": {
  "kernelspec": {
   "display_name": "Python 3",
   "language": "python",
   "name": "python3"
  },
  "language_info": {
   "codemirror_mode": {
    "name": "ipython",
    "version": 3
   },
   "file_extension": ".py",
   "mimetype": "text/x-python",
   "name": "python",
   "nbconvert_exporter": "python",
   "pygments_lexer": "ipython3",
   "version": "3.6.13"
  }
 },
 "nbformat": 4,
 "nbformat_minor": 5
}
