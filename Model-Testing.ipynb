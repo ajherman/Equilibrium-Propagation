{
 "cells": [
  {
   "cell_type": "code",
   "execution_count": 81,
   "id": "0b6fc6c4",
   "metadata": {},
   "outputs": [],
   "source": [
    "%matplotlib inline\n",
    "import os\n",
    "import glob\n",
    "import matplotlib\n",
    "import matplotlib.pyplot as plt\n",
    "import matplotlib.image as mpimg\n",
    "\n",
    "import re\n",
    "\n",
    "import torch\n",
    "import numpy as np\n",
    "\n",
    "from IPython.display import display, Image\n",
    "\n",
    "import pandas as pd"
   ]
  },
  {
   "cell_type": "code",
   "execution_count": 2,
   "id": "e4cb9ab1",
   "metadata": {},
   "outputs": [],
   "source": [
    "from output_utils import *"
   ]
  },
  {
   "cell_type": "code",
   "execution_count": 3,
   "id": "424dc2af",
   "metadata": {},
   "outputs": [],
   "source": [
    "pd.options.display.float_format = '{:,.2f}'.format"
   ]
  },
  {
   "cell_type": "code",
   "execution_count": 4,
   "id": "ae1da3ff",
   "metadata": {},
   "outputs": [],
   "source": [
    "pathpattern = 'Laborieux-Arch/results/*/*/*/*/'\n",
    "runs = getruns(pathpattern=pathpattern)"
   ]
  },
  {
   "cell_type": "code",
   "execution_count": 79,
   "id": "4b6de190",
   "metadata": {
    "tags": []
   },
   "outputs": [
    {
     "data": {
      "text/html": [
       "<div>\n",
       "<style scoped>\n",
       "    .dataframe tbody tr th:only-of-type {\n",
       "        vertical-align: middle;\n",
       "    }\n",
       "\n",
       "    .dataframe tbody tr th {\n",
       "        vertical-align: top;\n",
       "    }\n",
       "\n",
       "    .dataframe thead th {\n",
       "        text-align: right;\n",
       "    }\n",
       "</style>\n",
       "<table border=\"1\" class=\"dataframe\">\n",
       "  <thead>\n",
       "    <tr style=\"text-align: right;\">\n",
       "      <th></th>\n",
       "      <th>model</th>\n",
       "      <th>train</th>\n",
       "      <th>test</th>\n",
       "      <th>sparse_layers</th>\n",
       "      <th>lat_layers</th>\n",
       "      <th>lambdas</th>\n",
       "      <th>loss</th>\n",
       "      <th>T2</th>\n",
       "      <th>load_path_convert</th>\n",
       "      <th>seed</th>\n",
       "      <th>dir</th>\n",
       "    </tr>\n",
       "  </thead>\n",
       "  <tbody>\n",
       "    <tr>\n",
       "      <th>82</th>\n",
       "      <td>SparseCNN</td>\n",
       "      <td>10.00</td>\n",
       "      <td>10.00</td>\n",
       "      <td>[-2, -1]</td>\n",
       "      <td>[]</td>\n",
       "      <td>[0.0, 1e-05]</td>\n",
       "      <td>mse</td>\n",
       "      <td>120</td>\n",
       "      <td></td>\n",
       "      <td>999.00</td>\n",
       "      <td>./Laborieux-Arch/results/EP/mse/2023-08-12/14-...</td>\n",
       "    </tr>\n",
       "    <tr>\n",
       "      <th>81</th>\n",
       "      <td>SparseCNN</td>\n",
       "      <td>10.00</td>\n",
       "      <td>10.00</td>\n",
       "      <td>[-2, -1]</td>\n",
       "      <td>[]</td>\n",
       "      <td>[0.0, 1e-05]</td>\n",
       "      <td>mse</td>\n",
       "      <td>120</td>\n",
       "      <td></td>\n",
       "      <td>888.00</td>\n",
       "      <td>./Laborieux-Arch/results/EP/mse/2023-08-12/13-...</td>\n",
       "    </tr>\n",
       "    <tr>\n",
       "      <th>80</th>\n",
       "      <td>SparseCNN</td>\n",
       "      <td>10.00</td>\n",
       "      <td>10.00</td>\n",
       "      <td>[-2, -1]</td>\n",
       "      <td>[]</td>\n",
       "      <td>[0.0, 1e-05]</td>\n",
       "      <td>mse</td>\n",
       "      <td>120</td>\n",
       "      <td></td>\n",
       "      <td>777.00</td>\n",
       "      <td>./Laborieux-Arch/results/EP/mse/2023-08-12/13-...</td>\n",
       "    </tr>\n",
       "    <tr>\n",
       "      <th>79</th>\n",
       "      <td>SparseCNN</td>\n",
       "      <td>10.00</td>\n",
       "      <td>10.00</td>\n",
       "      <td>[-2, -1]</td>\n",
       "      <td>[]</td>\n",
       "      <td>[0.0, 1e-05]</td>\n",
       "      <td>mse</td>\n",
       "      <td>25</td>\n",
       "      <td></td>\n",
       "      <td>222.00</td>\n",
       "      <td>./Laborieux-Arch/results/EP/mse/2023-08-12/13-...</td>\n",
       "    </tr>\n",
       "    <tr>\n",
       "      <th>78</th>\n",
       "      <td>SparseCNN</td>\n",
       "      <td>10.00</td>\n",
       "      <td>10.00</td>\n",
       "      <td>[-2, -1]</td>\n",
       "      <td>[]</td>\n",
       "      <td>[0.0, 1e-05]</td>\n",
       "      <td>mse</td>\n",
       "      <td>25</td>\n",
       "      <td></td>\n",
       "      <td>111.00</td>\n",
       "      <td>./Laborieux-Arch/results/EP/mse/2023-08-12/13-...</td>\n",
       "    </tr>\n",
       "    <tr>\n",
       "      <th>71</th>\n",
       "      <td>SparseCNN</td>\n",
       "      <td>76.72</td>\n",
       "      <td>76.94</td>\n",
       "      <td>[-2, -1]</td>\n",
       "      <td>[]</td>\n",
       "      <td>[0.0, 0.1]</td>\n",
       "      <td>mse</td>\n",
       "      <td>25</td>\n",
       "      <td>results/EP/mse/2023-08-03/14-38-36_gpu0</td>\n",
       "      <td>8,453.00</td>\n",
       "      <td>./Laborieux-Arch/results/EP/mse/2023-08-12/08-...</td>\n",
       "    </tr>\n",
       "    <tr>\n",
       "      <th>70</th>\n",
       "      <td>SparseCNN</td>\n",
       "      <td>9.90</td>\n",
       "      <td>10.00</td>\n",
       "      <td>[-2, -1]</td>\n",
       "      <td>[]</td>\n",
       "      <td>[0.0, 1e-05]</td>\n",
       "      <td>mse</td>\n",
       "      <td>25</td>\n",
       "      <td></td>\n",
       "      <td>23,491.00</td>\n",
       "      <td>./Laborieux-Arch/results/EP/mse/2023-08-12/08-...</td>\n",
       "    </tr>\n",
       "    <tr>\n",
       "      <th>68</th>\n",
       "      <td>SparseCNN</td>\n",
       "      <td>15.41</td>\n",
       "      <td>10.00</td>\n",
       "      <td>[-2, -1]</td>\n",
       "      <td>[]</td>\n",
       "      <td>[0.0, 0.1]</td>\n",
       "      <td>mse</td>\n",
       "      <td>25</td>\n",
       "      <td>results/EP/mse/2023-08-03/14-38-36_gpu0</td>\n",
       "      <td>8,453.00</td>\n",
       "      <td>./Laborieux-Arch/results/EP/mse/2023-08-11/16-...</td>\n",
       "    </tr>\n",
       "    <tr>\n",
       "      <th>41</th>\n",
       "      <td>SparseCNN</td>\n",
       "      <td>10.04</td>\n",
       "      <td>10.00</td>\n",
       "      <td>[]</td>\n",
       "      <td>[]</td>\n",
       "      <td>[]</td>\n",
       "      <td>mse</td>\n",
       "      <td>25</td>\n",
       "      <td></td>\n",
       "      <td>8,453.00</td>\n",
       "      <td>./Laborieux-Arch/results/EP/mse/2023-08-01/11-...</td>\n",
       "    </tr>\n",
       "    <tr>\n",
       "      <th>40</th>\n",
       "      <td>SparseCNN</td>\n",
       "      <td>11.48</td>\n",
       "      <td>10.13</td>\n",
       "      <td>[]</td>\n",
       "      <td>[]</td>\n",
       "      <td>[]</td>\n",
       "      <td>mse</td>\n",
       "      <td>25</td>\n",
       "      <td></td>\n",
       "      <td>8,453.00</td>\n",
       "      <td>./Laborieux-Arch/results/EP/mse/2023-08-01/10-...</td>\n",
       "    </tr>\n",
       "  </tbody>\n",
       "</table>\n",
       "</div>"
      ],
      "text/plain": [
       "        model  train  test sparse_layers lat_layers       lambdas loss   T2  \\\n",
       "82  SparseCNN  10.00 10.00      [-2, -1]         []  [0.0, 1e-05]  mse  120   \n",
       "81  SparseCNN  10.00 10.00      [-2, -1]         []  [0.0, 1e-05]  mse  120   \n",
       "80  SparseCNN  10.00 10.00      [-2, -1]         []  [0.0, 1e-05]  mse  120   \n",
       "79  SparseCNN  10.00 10.00      [-2, -1]         []  [0.0, 1e-05]  mse   25   \n",
       "78  SparseCNN  10.00 10.00      [-2, -1]         []  [0.0, 1e-05]  mse   25   \n",
       "71  SparseCNN  76.72 76.94      [-2, -1]         []    [0.0, 0.1]  mse   25   \n",
       "70  SparseCNN   9.90 10.00      [-2, -1]         []  [0.0, 1e-05]  mse   25   \n",
       "68  SparseCNN  15.41 10.00      [-2, -1]         []    [0.0, 0.1]  mse   25   \n",
       "41  SparseCNN  10.04 10.00            []         []            []  mse   25   \n",
       "40  SparseCNN  11.48 10.13            []         []            []  mse   25   \n",
       "\n",
       "                          load_path_convert      seed  \\\n",
       "82                                             999.00   \n",
       "81                                             888.00   \n",
       "80                                             777.00   \n",
       "79                                             222.00   \n",
       "78                                             111.00   \n",
       "71  results/EP/mse/2023-08-03/14-38-36_gpu0  8,453.00   \n",
       "70                                          23,491.00   \n",
       "68  results/EP/mse/2023-08-03/14-38-36_gpu0  8,453.00   \n",
       "41                                           8,453.00   \n",
       "40                                           8,453.00   \n",
       "\n",
       "                                                  dir  \n",
       "82  ./Laborieux-Arch/results/EP/mse/2023-08-12/14-...  \n",
       "81  ./Laborieux-Arch/results/EP/mse/2023-08-12/13-...  \n",
       "80  ./Laborieux-Arch/results/EP/mse/2023-08-12/13-...  \n",
       "79  ./Laborieux-Arch/results/EP/mse/2023-08-12/13-...  \n",
       "78  ./Laborieux-Arch/results/EP/mse/2023-08-12/13-...  \n",
       "71  ./Laborieux-Arch/results/EP/mse/2023-08-12/08-...  \n",
       "70  ./Laborieux-Arch/results/EP/mse/2023-08-12/08-...  \n",
       "68  ./Laborieux-Arch/results/EP/mse/2023-08-11/16-...  \n",
       "41  ./Laborieux-Arch/results/EP/mse/2023-08-01/11-...  \n",
       "40  ./Laborieux-Arch/results/EP/mse/2023-08-01/10-...  "
      ]
     },
     "execution_count": 79,
     "metadata": {},
     "output_type": "execute_result"
    }
   ],
   "source": [
    "runsdf = pd.DataFrame(runs)\n",
    "runsdf[['sparse' in m.lower() for m in runsdf['model']]].sort_values('dir', ascending=False)[['model', 'train', 'test', 'sparse_layers', 'lat_layers', 'lambdas', 'loss', 'T2', 'load_path_convert', 'seed', 'dir']]"
   ]
  },
  {
   "cell_type": "code",
   "execution_count": 48,
   "id": "ec288c07-f089-4abf-aa90-d6b2caabfb7c",
   "metadata": {},
   "outputs": [
    {
     "data": {
      "text/plain": [
       "Index(['model', 'task', 'pools', 'archi', 'channels', 'kernels', 'strides',\n",
       "       'paddings', 'fc', 'act', 'optim', 'lrs', 'wds', 'mmt', 'loss', 'alg',\n",
       "       'mbs', 'T1', 'T2', 'betas', 'epochs', 'check_thm', 'random_sign',\n",
       "       'data_aug', 'lr_decay', 'scale', 'save', 'todo', 'load_path', 'seed',\n",
       "       'device', 'thirdphase', 'softmax', 'same_update', 'cep_debug',\n",
       "       'train_lateral', 'lat_layers', 'lat_kernels', 'sparse_layers',\n",
       "       'lat_constraints', 'comp_syn_constraints', 'competitiontype',\n",
       "       'inhibitstrength', 'lat_init_zeros', 'lat_lrs', 'head_lrs', 'lat_wds',\n",
       "       'save_nrn', 'load_path_convert', 'convert_place_layers', 'tensorboard',\n",
       "       'lambdas', 'eps', 'mbs_test', 'nbatches', 'figs', 'jit', 'cpu', 'train',\n",
       "       'test', 'dir', 'call'],\n",
       "      dtype='object')"
      ]
     },
     "execution_count": 48,
     "metadata": {},
     "output_type": "execute_result"
    }
   ],
   "source": [
    "runsdf.columns"
   ]
  },
  {
   "cell_type": "code",
   "execution_count": 25,
   "id": "545b8b78-17c4-49e8-827e-c1b6e0914eee",
   "metadata": {},
   "outputs": [
    {
     "data": {
      "text/plain": [
       "'./Laborieux-Arch/results/EP/mse/2023-08-12/08-14-53_gpu0/'"
      ]
     },
     "execution_count": 25,
     "metadata": {},
     "output_type": "execute_result"
    }
   ],
   "source": [
    "runsdf.iloc[71].dir"
   ]
  },
  {
   "cell_type": "code",
   "execution_count": 82,
   "id": "b2a7f281-dfb5-4f50-ba77-10f047dff8d7",
   "metadata": {},
   "outputs": [],
   "source": [
    "import hopfield_models, lateral_models"
   ]
  },
  {
   "cell_type": "code",
   "execution_count": 83,
   "id": "a1eea45e-e8ad-4bad-b64b-a14b946490f7",
   "metadata": {},
   "outputs": [
    {
     "data": {
      "text/plain": [
       "<module 'lateral_models' from '/vast/home/rstrauss/repos/Laborieux-Equilibrium-Propagation/lateral_models.py'>"
      ]
     },
     "execution_count": 83,
     "metadata": {},
     "output_type": "execute_result"
    }
   ],
   "source": [
    "lateral_models"
   ]
  },
  {
   "cell_type": "code",
   "execution_count": 84,
   "id": "dfe189e1-a517-4d46-9857-e2b2a9798ce2",
   "metadata": {},
   "outputs": [
    {
     "data": {
      "text/plain": [
       "<module 'hopfield_models' from '/vast/home/rstrauss/repos/Laborieux-Equilibrium-Propagation/hopfield_models.py'>"
      ]
     },
     "execution_count": 84,
     "metadata": {},
     "output_type": "execute_result"
    }
   ],
   "source": [
    "hopfield_models"
   ]
  },
  {
   "cell_type": "code",
   "execution_count": 85,
   "id": "0841d55b-509c-4a99-bd36-6d268490bac4",
   "metadata": {},
   "outputs": [
    {
     "data": {
      "text/plain": [
       "hopfield_models.sparseCNN"
      ]
     },
     "execution_count": 85,
     "metadata": {},
     "output_type": "execute_result"
    }
   ],
   "source": [
    "lateral_models.sparseCNN"
   ]
  },
  {
   "cell_type": "code",
   "execution_count": 86,
   "id": "0e14829e-0dbd-4170-b850-c761d4cfaf00",
   "metadata": {},
   "outputs": [],
   "source": [
    "lateral_models.sparseCNN = hopfield_models.sparseCNN"
   ]
  },
  {
   "cell_type": "code",
   "execution_count": 87,
   "id": "cdc35da2-04aa-4f47-a59d-d87b07e60c10",
   "metadata": {},
   "outputs": [
    {
     "data": {
      "text/plain": [
       "hopfield_models.sparseCNN"
      ]
     },
     "execution_count": 87,
     "metadata": {},
     "output_type": "execute_result"
    }
   ],
   "source": [
    "lateral_models.sparseCNN"
   ]
  },
  {
   "cell_type": "code",
   "execution_count": 88,
   "id": "7d6567d2-5a23-468d-bcf6-45afdffef5b6",
   "metadata": {},
   "outputs": [],
   "source": [
    "model = torch.load('./Laborieux-Arch/results/EP/mse/2023-08-12/08-14-53_gpu0/model.pt', map_location=torch.device('cpu'))"
   ]
  },
  {
   "cell_type": "code",
   "execution_count": 89,
   "id": "a5f8fed1-1eef-44a9-bf7e-f6b5f4dd423f",
   "metadata": {},
   "outputs": [
    {
     "data": {
      "text/plain": [
       "Parameter containing:\n",
       "tensor([[ 0.0000, -0.0629,  0.0514,  0.0333, -0.0789, -0.0082,  0.0102,  0.0487,\n",
       "         -0.0337,  0.0018],\n",
       "        [-0.0629,  0.0000,  0.0314, -0.0589,  0.0131, -0.0356, -0.0445, -0.0488,\n",
       "         -0.0179, -0.0102],\n",
       "        [ 0.0514,  0.0314,  0.0000,  0.0623, -0.0500, -0.0510,  0.1165, -0.0576,\n",
       "         -0.0182,  0.0487],\n",
       "        [ 0.0333, -0.0589,  0.0623,  0.0000,  0.1089,  0.0475, -0.0346,  0.0655,\n",
       "          0.0074,  0.0228],\n",
       "        [-0.0789,  0.0131, -0.0500,  0.1089,  0.0000, -0.0287, -0.0224,  0.0575,\n",
       "          0.0632, -0.0481],\n",
       "        [-0.0082, -0.0356, -0.0510,  0.0475, -0.0287,  0.0000,  0.0500, -0.0544,\n",
       "          0.0199,  0.0093],\n",
       "        [ 0.0102, -0.0445,  0.1165, -0.0346, -0.0224,  0.0500,  0.0000,  0.0467,\n",
       "          0.0193,  0.0267],\n",
       "        [ 0.0487, -0.0488, -0.0576,  0.0655,  0.0575, -0.0544,  0.0467,  0.0000,\n",
       "          0.0167, -0.0003],\n",
       "        [-0.0337, -0.0179, -0.0182,  0.0074,  0.0632,  0.0199,  0.0193,  0.0167,\n",
       "          0.0000, -0.0054],\n",
       "        [ 0.0018, -0.0102,  0.0487,  0.0228, -0.0481,  0.0093,  0.0267, -0.0003,\n",
       "         -0.0054,  0.0000]], requires_grad=True)"
      ]
     },
     "execution_count": 89,
     "metadata": {},
     "output_type": "execute_result"
    }
   ],
   "source": [
    "model.fc_comp_layers[0].weight"
   ]
  },
  {
   "cell_type": "code",
   "execution_count": 90,
   "id": "5156d969-42ad-4914-954e-3ca5894d0388",
   "metadata": {},
   "outputs": [
    {
     "name": "stdout",
     "output_type": "stream",
     "text": [
      "tensor([[ 0.0000, -0.0079, -0.0097,  ...,  0.0037,  0.0007, -0.0063],\n",
      "        [-0.0079,  0.0000, -0.0121,  ...,  0.0079, -0.0175,  0.0065],\n",
      "        [-0.0097, -0.0121,  0.0000,  ...,  0.0178,  0.0105, -0.0041],\n",
      "        ...,\n",
      "        [ 0.0037,  0.0079,  0.0178,  ...,  0.0000, -0.0121, -0.0078],\n",
      "        [ 0.0007, -0.0175,  0.0105,  ..., -0.0121,  0.0000,  0.0204],\n",
      "        [-0.0063,  0.0065, -0.0041,  ..., -0.0078,  0.0204,  0.0000]],\n",
      "       grad_fn=<SelectBackward0>)\n",
      "tensor([[-1.0000e+00, -7.8927e-03, -9.7482e-03,  ...,  3.6985e-03,\n",
      "          6.7520e-04, -6.3258e-03],\n",
      "        [-7.8927e-03, -1.0000e+00, -1.2144e-02,  ...,  7.9263e-03,\n",
      "         -1.7559e-02,  6.5416e-03],\n",
      "        [-9.7482e-03, -1.2144e-02, -1.0000e+00,  ...,  1.7814e-02,\n",
      "          1.0495e-02, -4.1399e-03],\n",
      "        ...,\n",
      "        [ 3.6985e-03,  7.9263e-03,  1.7814e-02,  ..., -1.0000e+00,\n",
      "         -1.2118e-02, -7.8519e-03],\n",
      "        [ 6.7520e-04, -1.7559e-02,  1.0495e-02,  ..., -1.2118e-02,\n",
      "         -1.0000e+00,  2.0338e-02],\n",
      "        [-6.3258e-03,  6.5416e-03, -4.1399e-03,  ..., -7.8519e-03,\n",
      "          2.0338e-02, -1.0000e+00]], grad_fn=<SelectBackward0>)\n"
     ]
    }
   ],
   "source": [
    "feat = model.conv_comp_layers[0].weight\n",
    "print(feat[:,:,2,2])\n",
    "print(feat[:,:,0,0])"
   ]
  },
  {
   "cell_type": "code",
   "execution_count": 91,
   "id": "5123f610-6f72-4a8e-bdb5-2f61e1cb66a0",
   "metadata": {},
   "outputs": [
    {
     "data": {
      "text/plain": [
       "sparseCNN(\n",
       "  (synapses): ModuleList(\n",
       "    (0): Conv2d(3, 128, kernel_size=(3, 3), stride=(1, 1), padding=(1, 1))\n",
       "    (1): Conv2d(128, 256, kernel_size=(3, 3), stride=(1, 1), padding=(1, 1))\n",
       "    (2): Conv2d(256, 512, kernel_size=(3, 3), stride=(1, 1), padding=(1, 1))\n",
       "    (3): Conv2d(512, 512, kernel_size=(3, 3), stride=(1, 1))\n",
       "    (4): Linear(in_features=512, out_features=10, bias=True)\n",
       "  )\n",
       "  (lat_syn): ModuleList()\n",
       "  (conv_comp_layers): ModuleList(\n",
       "    (0): Conv2d(512, 512, kernel_size=(5, 5), stride=(1, 1), padding=(2, 2))\n",
       "  )\n",
       "  (fc_comp_layers): ModuleList(\n",
       "    (0): Linear(in_features=10, out_features=10, bias=True)\n",
       "  )\n",
       ")"
      ]
     },
     "execution_count": 91,
     "metadata": {},
     "output_type": "execute_result"
    }
   ],
   "source": [
    "model"
   ]
  },
  {
   "cell_type": "code",
   "execution_count": 92,
   "id": "3f80d365-bd0b-490d-b382-6e9daf01815e",
   "metadata": {},
   "outputs": [
    {
     "data": {
      "text/plain": [
       "ModuleList(\n",
       "  (0): Conv2d(512, 512, kernel_size=(5, 5), stride=(1, 1), padding=(2, 2))\n",
       ")"
      ]
     },
     "execution_count": 92,
     "metadata": {},
     "output_type": "execute_result"
    }
   ],
   "source": [
    "model.conv_comp_layers"
   ]
  },
  {
   "cell_type": "code",
   "execution_count": 76,
   "id": "bd54a59e-1eb1-415b-9e2c-19e3a9c2b757",
   "metadata": {},
   "outputs": [
    {
     "name": "stdout",
     "output_type": "stream",
     "text": [
      "tensor(-1.3139, grad_fn=<SumBackward0>)\n",
      "tensor(4.3100, grad_fn=<SumBackward0>)\n",
      "tensor(-335.8656, grad_fn=<SumBackward0>)\n",
      "tensor(1.7050, grad_fn=<SumBackward0>)\n",
      "tensor(-1002.0408, grad_fn=<SumBackward0>)\n",
      "tensor(5.4406, grad_fn=<SumBackward0>)\n",
      "tensor(-524.4692, grad_fn=<SumBackward0>)\n",
      "tensor(10.3719, grad_fn=<SumBackward0>)\n",
      "tensor(-45.4680, grad_fn=<SumBackward0>)\n",
      "tensor(2.5025, grad_fn=<SumBackward0>)\n",
      "tensor(-11951.8516, grad_fn=<SumBackward0>)\n",
      "tensor(0.0575, grad_fn=<SumBackward0>)\n",
      "tensor(0.4172, grad_fn=<SumBackward0>)\n",
      "tensor(-1.8029e-05, grad_fn=<SumBackward0>)\n"
     ]
    }
   ],
   "source": [
    "for param in model.parameters():\n",
    "    print(param.sum())"
   ]
  },
  {
   "cell_type": "code",
   "execution_count": 78,
   "id": "e6932193-d7e1-4d80-8e58-9453e4ef5d54",
   "metadata": {},
   "outputs": [
    {
     "name": "stdout",
     "output_type": "stream",
     "text": [
      "tensor(-1.3139, grad_fn=<SumBackward0>)\n",
      "tensor(4.3100, grad_fn=<SumBackward0>)\n",
      "tensor(-335.8656, grad_fn=<SumBackward0>)\n",
      "tensor(1.7050, grad_fn=<SumBackward0>)\n",
      "tensor(-1002.0408, grad_fn=<SumBackward0>)\n",
      "tensor(5.4406, grad_fn=<SumBackward0>)\n",
      "tensor(-524.4692, grad_fn=<SumBackward0>)\n",
      "tensor(10.3719, grad_fn=<SumBackward0>)\n",
      "tensor(-45.4680, grad_fn=<SumBackward0>)\n",
      "tensor(2.5025, grad_fn=<SumBackward0>)\n"
     ]
    }
   ],
   "source": [
    "for s in model.synapses:\n",
    "    print(s.weight.sum())\n",
    "    print(s.bias.sum())"
   ]
  },
  {
   "cell_type": "code",
   "execution_count": 80,
   "id": "83764373-c17d-40d2-a03c-4e843620a485",
   "metadata": {},
   "outputs": [
    {
     "name": "stdout",
     "output_type": "stream",
     "text": [
      "tensor(-11951.8516, grad_fn=<SumBackward0>)\n"
     ]
    }
   ],
   "source": [
    "print(model.conv_comp_layers[0].weight.sum())"
   ]
  },
  {
   "cell_type": "code",
   "execution_count": null,
   "id": "bb856a6f-3668-4a3e-90ef-2ce0174f8a01",
   "metadata": {},
   "outputs": [],
   "source": []
  }
 ],
 "metadata": {
  "kernelspec": {
   "display_name": "Python 3",
   "language": "python",
   "name": "python3"
  },
  "language_info": {
   "codemirror_mode": {
    "name": "ipython",
    "version": 3
   },
   "file_extension": ".py",
   "mimetype": "text/x-python",
   "name": "python",
   "nbconvert_exporter": "python",
   "pygments_lexer": "ipython3",
   "version": "3.6.13"
  }
 },
 "nbformat": 4,
 "nbformat_minor": 5
}
