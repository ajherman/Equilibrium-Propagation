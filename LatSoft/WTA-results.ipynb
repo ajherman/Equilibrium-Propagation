{
 "cells": [
  {
   "cell_type": "code",
   "execution_count": 8,
   "id": "13bd405d",
   "metadata": {
    "mosaic": [
     null
    ]
   },
   "outputs": [],
   "source": [
    "%matplotlib inline\n",
    "import os\n",
    "import glob\n",
    "import matplotlib\n",
    "import matplotlib.pyplot as plt\n",
    "import matplotlib.image as mpimg\n",
    "\n",
    "import re\n",
    "\n",
    "import torch\n",
    "\n",
    "from IPython.display import display, Image\n",
    "\n",
    "import pandas as pd\n",
    "\n",
    "import numpy as np"
   ]
  },
  {
   "cell_type": "code",
   "execution_count": 2,
   "id": "15859202",
   "metadata": {
    "mosaic": [
     null
    ]
   },
   "outputs": [],
   "source": [
    "import sys\n",
    "sys.path.append('../')\n",
    "from output_utils import *"
   ]
  },
  {
   "cell_type": "code",
   "execution_count": 3,
   "id": "b20bd13f",
   "metadata": {
    "mosaic": [
     null
    ]
   },
   "outputs": [],
   "source": [
    "pd.options.display.float_format = '{:,.2f}'.format"
   ]
  },
  {
   "cell_type": "code",
   "execution_count": 4,
   "id": "1a792f4b",
   "metadata": {
    "mosaic": [
     null
    ]
   },
   "outputs": [],
   "source": [
    "runs = getruns()"
   ]
  },
  {
   "cell_type": "code",
   "execution_count": 6,
   "id": "9404ee64",
   "metadata": {
    "mosaic": [
     null
    ],
    "scrolled": false
   },
   "outputs": [
    {
     "data": {
      "text/html": [
       "<div>\n",
       "<style scoped>\n",
       "    .dataframe tbody tr th:only-of-type {\n",
       "        vertical-align: middle;\n",
       "    }\n",
       "\n",
       "    .dataframe tbody tr th {\n",
       "        vertical-align: top;\n",
       "    }\n",
       "\n",
       "    .dataframe thead th {\n",
       "        text-align: right;\n",
       "    }\n",
       "</style>\n",
       "<table border=\"1\" class=\"dataframe\">\n",
       "  <thead>\n",
       "    <tr style=\"text-align: right;\">\n",
       "      <th></th>\n",
       "      <th>model</th>\n",
       "      <th>test</th>\n",
       "      <th>train</th>\n",
       "      <th>softmax</th>\n",
       "      <th>loss</th>\n",
       "      <th>load_path_convert</th>\n",
       "      <th>competitiontype</th>\n",
       "      <th>inhibitstrength</th>\n",
       "      <th>dir</th>\n",
       "    </tr>\n",
       "  </thead>\n",
       "  <tbody>\n",
       "    <tr>\n",
       "      <th>18</th>\n",
       "      <td>LatSoftCNN</td>\n",
       "      <td>96.29</td>\n",
       "      <td>95.87</td>\n",
       "      <td>False</td>\n",
       "      <td>mse</td>\n",
       "      <td></td>\n",
       "      <td>feature_inner_products</td>\n",
       "      <td>1.00</td>\n",
       "      <td>results/EP/mse/2023-07-18/14-53-22_gpu1/</td>\n",
       "    </tr>\n",
       "    <tr>\n",
       "      <th>13</th>\n",
       "      <td>LatSoftCNN</td>\n",
       "      <td>96.24</td>\n",
       "      <td>95.42</td>\n",
       "      <td>False</td>\n",
       "      <td>mse</td>\n",
       "      <td></td>\n",
       "      <td>feature_inner_products</td>\n",
       "      <td>1.00</td>\n",
       "      <td>results/EP/mse/2023-07-18/14-16-39_gpu0/</td>\n",
       "    </tr>\n",
       "    <tr>\n",
       "      <th>17</th>\n",
       "      <td>CNN</td>\n",
       "      <td>96.16</td>\n",
       "      <td>95.45</td>\n",
       "      <td>False</td>\n",
       "      <td>mse</td>\n",
       "      <td></td>\n",
       "      <td>none</td>\n",
       "      <td>0.00</td>\n",
       "      <td>results/EP/mse/2023-07-18/14-48-45_gpu0/</td>\n",
       "    </tr>\n",
       "    <tr>\n",
       "      <th>16</th>\n",
       "      <td>CNN</td>\n",
       "      <td>95.93</td>\n",
       "      <td>95.21</td>\n",
       "      <td>True</td>\n",
       "      <td>mse</td>\n",
       "      <td></td>\n",
       "      <td>none</td>\n",
       "      <td>0.00</td>\n",
       "      <td>results/EP/mse/2023-07-18/13-44-34_gpu1/</td>\n",
       "    </tr>\n",
       "    <tr>\n",
       "      <th>11</th>\n",
       "      <td>CNN</td>\n",
       "      <td>95.89</td>\n",
       "      <td>95.42</td>\n",
       "      <td>False</td>\n",
       "      <td>mse</td>\n",
       "      <td></td>\n",
       "      <td>none</td>\n",
       "      <td>0.00</td>\n",
       "      <td>results/EP/mse/2023-07-18/13-44-49_gpu1/</td>\n",
       "    </tr>\n",
       "    <tr>\n",
       "      <th>14</th>\n",
       "      <td>CNN</td>\n",
       "      <td>95.88</td>\n",
       "      <td>95.06</td>\n",
       "      <td>True</td>\n",
       "      <td>mse</td>\n",
       "      <td></td>\n",
       "      <td>none</td>\n",
       "      <td>0.00</td>\n",
       "      <td>results/EP/mse/2023-07-18/14-16-49_gpu0/</td>\n",
       "    </tr>\n",
       "    <tr>\n",
       "      <th>12</th>\n",
       "      <td>LatSoftCNN</td>\n",
       "      <td>95.82</td>\n",
       "      <td>94.83</td>\n",
       "      <td>False</td>\n",
       "      <td>mse</td>\n",
       "      <td></td>\n",
       "      <td>feature_inner_products</td>\n",
       "      <td>1.00</td>\n",
       "      <td>results/EP/mse/2023-07-18/13-44-20_gpu0/</td>\n",
       "    </tr>\n",
       "    <tr>\n",
       "      <th>10</th>\n",
       "      <td>CNN</td>\n",
       "      <td>95.71</td>\n",
       "      <td>94.77</td>\n",
       "      <td>True</td>\n",
       "      <td>mse</td>\n",
       "      <td></td>\n",
       "      <td>none</td>\n",
       "      <td>0.00</td>\n",
       "      <td>results/EP/mse/2023-07-18/14-48-28_gpu1/</td>\n",
       "    </tr>\n",
       "    <tr>\n",
       "      <th>15</th>\n",
       "      <td>CNN</td>\n",
       "      <td>95.71</td>\n",
       "      <td>95.07</td>\n",
       "      <td>False</td>\n",
       "      <td>mse</td>\n",
       "      <td></td>\n",
       "      <td>none</td>\n",
       "      <td>0.00</td>\n",
       "      <td>results/EP/mse/2023-07-18/14-16-58_gpu1/</td>\n",
       "    </tr>\n",
       "    <tr>\n",
       "      <th>4</th>\n",
       "      <td>CNN</td>\n",
       "      <td>95.14</td>\n",
       "      <td>94.50</td>\n",
       "      <td>True</td>\n",
       "      <td>cel</td>\n",
       "      <td></td>\n",
       "      <td>none</td>\n",
       "      <td>0.00</td>\n",
       "      <td>results/EP/cel/2023-07-18/11-09-06_gpu0/</td>\n",
       "    </tr>\n",
       "    <tr>\n",
       "      <th>9</th>\n",
       "      <td>CNN</td>\n",
       "      <td>93.83</td>\n",
       "      <td>92.94</td>\n",
       "      <td>True</td>\n",
       "      <td>cel</td>\n",
       "      <td></td>\n",
       "      <td>none</td>\n",
       "      <td>0.00</td>\n",
       "      <td>results/EP/cel/2023-07-18/10-22-12_gpu0/</td>\n",
       "    </tr>\n",
       "    <tr>\n",
       "      <th>6</th>\n",
       "      <td>CNN</td>\n",
       "      <td>93.24</td>\n",
       "      <td>92.40</td>\n",
       "      <td>True</td>\n",
       "      <td>cel</td>\n",
       "      <td></td>\n",
       "      <td>none</td>\n",
       "      <td>0.00</td>\n",
       "      <td>results/EP/cel/2023-07-18/11-45-18_gpu1/</td>\n",
       "    </tr>\n",
       "    <tr>\n",
       "      <th>8</th>\n",
       "      <td>LatSoftCNN</td>\n",
       "      <td>92.99</td>\n",
       "      <td>92.05</td>\n",
       "      <td>False</td>\n",
       "      <td>cel</td>\n",
       "      <td></td>\n",
       "      <td>feature_inner_products</td>\n",
       "      <td>1.00</td>\n",
       "      <td>results/EP/cel/2023-07-18/10-31-15_gpu0/</td>\n",
       "    </tr>\n",
       "    <tr>\n",
       "      <th>1</th>\n",
       "      <td>LatSoftCNN</td>\n",
       "      <td>92.74</td>\n",
       "      <td>91.42</td>\n",
       "      <td>False</td>\n",
       "      <td>cel</td>\n",
       "      <td></td>\n",
       "      <td>feature_inner_products</td>\n",
       "      <td>1.00</td>\n",
       "      <td>results/EP/cel/2023-07-18/11-09-45_gpu1/</td>\n",
       "    </tr>\n",
       "    <tr>\n",
       "      <th>2</th>\n",
       "      <td>LatSoftCNN</td>\n",
       "      <td>91.69</td>\n",
       "      <td>90.59</td>\n",
       "      <td>False</td>\n",
       "      <td>cel</td>\n",
       "      <td></td>\n",
       "      <td>feature_inner_products</td>\n",
       "      <td>1.00</td>\n",
       "      <td>results/EP/cel/2023-07-18/11-54-18_gpu0/</td>\n",
       "    </tr>\n",
       "    <tr>\n",
       "      <th>5</th>\n",
       "      <td>CNN</td>\n",
       "      <td>90.01</td>\n",
       "      <td>94.84</td>\n",
       "      <td>False</td>\n",
       "      <td>cel</td>\n",
       "      <td></td>\n",
       "      <td>none</td>\n",
       "      <td>0.00</td>\n",
       "      <td>results/EP/cel/2023-07-18/11-09-23_gpu0/</td>\n",
       "    </tr>\n",
       "    <tr>\n",
       "      <th>7</th>\n",
       "      <td>CNN</td>\n",
       "      <td>86.08</td>\n",
       "      <td>94.80</td>\n",
       "      <td>False</td>\n",
       "      <td>cel</td>\n",
       "      <td></td>\n",
       "      <td>none</td>\n",
       "      <td>0.00</td>\n",
       "      <td>results/EP/cel/2023-07-18/10-34-55_gpu1/</td>\n",
       "    </tr>\n",
       "    <tr>\n",
       "      <th>3</th>\n",
       "      <td>CNN</td>\n",
       "      <td>85.19</td>\n",
       "      <td>93.44</td>\n",
       "      <td>False</td>\n",
       "      <td>cel</td>\n",
       "      <td></td>\n",
       "      <td>none</td>\n",
       "      <td>0.00</td>\n",
       "      <td>results/EP/cel/2023-07-18/11-45-01_gpu1/</td>\n",
       "    </tr>\n",
       "    <tr>\n",
       "      <th>0</th>\n",
       "      <td>LatSoftCNN</td>\n",
       "      <td>84.47</td>\n",
       "      <td>83.66</td>\n",
       "      <td>False</td>\n",
       "      <td>cel</td>\n",
       "      <td></td>\n",
       "      <td>uniform_inhibition</td>\n",
       "      <td>1.00</td>\n",
       "      <td>results/EP/cel/2023-07-18/16-51-18_gpu1/</td>\n",
       "    </tr>\n",
       "  </tbody>\n",
       "</table>\n",
       "</div>"
      ],
      "text/plain": [
       "         model  test  train  softmax loss load_path_convert  \\\n",
       "18  LatSoftCNN 96.29  95.87    False  mse                     \n",
       "13  LatSoftCNN 96.24  95.42    False  mse                     \n",
       "17         CNN 96.16  95.45    False  mse                     \n",
       "16         CNN 95.93  95.21     True  mse                     \n",
       "11         CNN 95.89  95.42    False  mse                     \n",
       "14         CNN 95.88  95.06     True  mse                     \n",
       "12  LatSoftCNN 95.82  94.83    False  mse                     \n",
       "10         CNN 95.71  94.77     True  mse                     \n",
       "15         CNN 95.71  95.07    False  mse                     \n",
       "4          CNN 95.14  94.50     True  cel                     \n",
       "9          CNN 93.83  92.94     True  cel                     \n",
       "6          CNN 93.24  92.40     True  cel                     \n",
       "8   LatSoftCNN 92.99  92.05    False  cel                     \n",
       "1   LatSoftCNN 92.74  91.42    False  cel                     \n",
       "2   LatSoftCNN 91.69  90.59    False  cel                     \n",
       "5          CNN 90.01  94.84    False  cel                     \n",
       "7          CNN 86.08  94.80    False  cel                     \n",
       "3          CNN 85.19  93.44    False  cel                     \n",
       "0   LatSoftCNN 84.47  83.66    False  cel                     \n",
       "\n",
       "           competitiontype  inhibitstrength  \\\n",
       "18  feature_inner_products             1.00   \n",
       "13  feature_inner_products             1.00   \n",
       "17                    none             0.00   \n",
       "16                    none             0.00   \n",
       "11                    none             0.00   \n",
       "14                    none             0.00   \n",
       "12  feature_inner_products             1.00   \n",
       "10                    none             0.00   \n",
       "15                    none             0.00   \n",
       "4                     none             0.00   \n",
       "9                     none             0.00   \n",
       "6                     none             0.00   \n",
       "8   feature_inner_products             1.00   \n",
       "1   feature_inner_products             1.00   \n",
       "2   feature_inner_products             1.00   \n",
       "5                     none             0.00   \n",
       "7                     none             0.00   \n",
       "3                     none             0.00   \n",
       "0       uniform_inhibition             1.00   \n",
       "\n",
       "                                         dir  \n",
       "18  results/EP/mse/2023-07-18/14-53-22_gpu1/  \n",
       "13  results/EP/mse/2023-07-18/14-16-39_gpu0/  \n",
       "17  results/EP/mse/2023-07-18/14-48-45_gpu0/  \n",
       "16  results/EP/mse/2023-07-18/13-44-34_gpu1/  \n",
       "11  results/EP/mse/2023-07-18/13-44-49_gpu1/  \n",
       "14  results/EP/mse/2023-07-18/14-16-49_gpu0/  \n",
       "12  results/EP/mse/2023-07-18/13-44-20_gpu0/  \n",
       "10  results/EP/mse/2023-07-18/14-48-28_gpu1/  \n",
       "15  results/EP/mse/2023-07-18/14-16-58_gpu1/  \n",
       "4   results/EP/cel/2023-07-18/11-09-06_gpu0/  \n",
       "9   results/EP/cel/2023-07-18/10-22-12_gpu0/  \n",
       "6   results/EP/cel/2023-07-18/11-45-18_gpu1/  \n",
       "8   results/EP/cel/2023-07-18/10-31-15_gpu0/  \n",
       "1   results/EP/cel/2023-07-18/11-09-45_gpu1/  \n",
       "2   results/EP/cel/2023-07-18/11-54-18_gpu0/  \n",
       "5   results/EP/cel/2023-07-18/11-09-23_gpu0/  \n",
       "7   results/EP/cel/2023-07-18/10-34-55_gpu1/  \n",
       "3   results/EP/cel/2023-07-18/11-45-01_gpu1/  \n",
       "0   results/EP/cel/2023-07-18/16-51-18_gpu1/  "
      ]
     },
     "execution_count": 6,
     "metadata": {},
     "output_type": "execute_result"
    }
   ],
   "source": [
    "runsdf = pd.DataFrame(runs)\n",
    "runsdf.sort_values('test', ascending=False)[['model', 'test', 'train', 'softmax', 'loss', 'load_path_convert', 'competitiontype', 'inhibitstrength', 'dir']]"
   ]
  },
  {
   "cell_type": "code",
   "execution_count": 28,
   "id": "0fb980cd",
   "metadata": {
    "mosaic": [
     null
    ]
   },
   "outputs": [
    {
     "data": {
      "text/html": [
       "<div>\n",
       "<style scoped>\n",
       "    .dataframe tbody tr th:only-of-type {\n",
       "        vertical-align: middle;\n",
       "    }\n",
       "\n",
       "    .dataframe tbody tr th {\n",
       "        vertical-align: top;\n",
       "    }\n",
       "\n",
       "    .dataframe thead th {\n",
       "        text-align: right;\n",
       "    }\n",
       "</style>\n",
       "<table border=\"1\" class=\"dataframe\">\n",
       "  <thead>\n",
       "    <tr style=\"text-align: right;\">\n",
       "      <th></th>\n",
       "      <th>model</th>\n",
       "      <th>loss</th>\n",
       "      <th>softmax</th>\n",
       "      <th>train</th>\n",
       "      <th>test</th>\n",
       "      <th>inhibitstrength</th>\n",
       "    </tr>\n",
       "  </thead>\n",
       "  <tbody>\n",
       "    <tr>\n",
       "      <th>5</th>\n",
       "      <td>LatSoftCNN softmax=False (mse)</td>\n",
       "      <td>mse</td>\n",
       "      <td>False</td>\n",
       "      <td>95.37</td>\n",
       "      <td>96.12</td>\n",
       "      <td>1.00</td>\n",
       "    </tr>\n",
       "    <tr>\n",
       "      <th>1</th>\n",
       "      <td>CNN softmax=False (mse)</td>\n",
       "      <td>mse</td>\n",
       "      <td>False</td>\n",
       "      <td>95.31</td>\n",
       "      <td>95.92</td>\n",
       "      <td>0.00</td>\n",
       "    </tr>\n",
       "    <tr>\n",
       "      <th>3</th>\n",
       "      <td>CNN softmax=True (mse)</td>\n",
       "      <td>mse</td>\n",
       "      <td>True</td>\n",
       "      <td>95.01</td>\n",
       "      <td>95.84</td>\n",
       "      <td>0.00</td>\n",
       "    </tr>\n",
       "    <tr>\n",
       "      <th>2</th>\n",
       "      <td>CNN softmax=True (cel)</td>\n",
       "      <td>cel</td>\n",
       "      <td>True</td>\n",
       "      <td>93.28</td>\n",
       "      <td>94.07</td>\n",
       "      <td>0.00</td>\n",
       "    </tr>\n",
       "    <tr>\n",
       "      <th>4</th>\n",
       "      <td>LatSoftCNN softmax=False (cel)</td>\n",
       "      <td>cel</td>\n",
       "      <td>False</td>\n",
       "      <td>91.35</td>\n",
       "      <td>92.47</td>\n",
       "      <td>1.00</td>\n",
       "    </tr>\n",
       "    <tr>\n",
       "      <th>0</th>\n",
       "      <td>CNN softmax=False (cel)</td>\n",
       "      <td>cel</td>\n",
       "      <td>False</td>\n",
       "      <td>94.36</td>\n",
       "      <td>87.09</td>\n",
       "      <td>0.00</td>\n",
       "    </tr>\n",
       "  </tbody>\n",
       "</table>\n",
       "</div>"
      ],
      "text/plain": [
       "                            model loss  softmax  train  test  inhibitstrength\n",
       "5  LatSoftCNN softmax=False (mse)  mse    False  95.37 96.12             1.00\n",
       "1         CNN softmax=False (mse)  mse    False  95.31 95.92             0.00\n",
       "3          CNN softmax=True (mse)  mse     True  95.01 95.84             0.00\n",
       "2          CNN softmax=True (cel)  cel     True  93.28 94.07             0.00\n",
       "4  LatSoftCNN softmax=False (cel)  cel    False  91.35 92.47             1.00\n",
       "0         CNN softmax=False (cel)  cel    False  94.36 87.09             0.00"
      ]
     },
     "execution_count": 28,
     "metadata": {},
     "output_type": "execute_result"
    }
   ],
   "source": [
    "subset = np.logical_or(runsdf['model'] != 'LatSoftCNN',\n",
    "                       np.logical_and(runsdf['competitiontype'] == 'feature_inner_products',\n",
    "                                      runsdf['inhibitstrength'] == 1.0,\n",
    "                                      np.array(list(map(lambda x: len(x) > 0,runsdf['lat_constraints']))) == 0)\n",
    "                      )\n",
    "avgdf = runsdf[subset].groupby(['model', 'softmax', 'loss'], as_index=False)\n",
    "avgdf = avgdf[['model', 'softmax', 'loss', 'train', 'test', 'inhibitstrength']]\n",
    "avgdf = avgdf.mean()\n",
    "avgdf['model'] = avgdf['model'] + ' softmax='+np.vectorize(str)(avgdf['softmax']) + ' (' + avgdf['loss'] + ')'\n",
    "avgdf.sort_values('test', ascending=False)"
   ]
  },
  {
   "cell_type": "code",
   "execution_count": 29,
   "id": "e3fba161",
   "metadata": {
    "mosaic": [
     null,
     "0"
    ]
   },
   "outputs": [
    {
     "data": {
      "text/plain": [
       "(85.0, 100.0)"
      ]
     },
     "execution_count": 29,
     "metadata": {},
     "output_type": "execute_result"
    },
    {
     "data": {
      "image/png": "[encoded data removed]",
      "text/plain": [
       "<Figure size 648x648 with 1 Axes>"
      ]
     },
     "metadata": {
      "needs_background": "light"
     },
     "output_type": "display_data"
    }
   ],
   "source": [
    "avgdf[avgdf['loss'] == 'cel'].plot.bar('model', ['test', 'train'], figsize = (9,9))\n",
    "plt.gca().set_title('Lateral Competition vs. External Softmax Layer')\n",
    "plt.ylim(85, 100)\n",
    "# plt.savefig('LatSoft_CNN_CNN--softmax_test_and_train_cel.png')"
   ]
  },
  {
   "cell_type": "code",
   "execution_count": 30,
   "id": "7399b35c",
   "metadata": {
    "mosaic": [
     null,
     "0"
    ]
   },
   "outputs": [
    {
     "data": {
      "text/plain": [
       "(85.0, 100.0)"
      ]
     },
     "execution_count": 30,
     "metadata": {},
     "output_type": "execute_result"
    },
    {
     "data": {
      "image/png": "[encoded data removed]",
      "text/plain": [
       "<Figure size 648x648 with 1 Axes>"
      ]
     },
     "metadata": {
      "needs_background": "light"
     },
     "output_type": "display_data"
    }
   ],
   "source": [
    "avgdf[avgdf['loss'] == 'mse'].plot.bar('model', ['test', 'train'], figsize = (9,9))\n",
    "plt.gca().set_title('Lateral Competition vs. External Softmax Layer')\n",
    "plt.ylim(85, 100)\n",
    "# plt.savefig('LatSoft_CNN_CNN--softmax_test_and_train_mse.png')"
   ]
  },
  {
   "cell_type": "code",
   "execution_count": null,
   "id": "ebefae24",
   "metadata": {
    "mosaic": [
     null
    ]
   },
   "outputs": [],
   "source": []
  }
 ],
 "metadata": {
  "kernelspec": {
   "display_name": "Python 3",
   "language": "python",
   "name": "python3"
  },
  "language_info": {
   "codemirror_mode": {
    "name": "ipython",
    "version": 3
   },
   "file_extension": ".py",
   "mimetype": "text/x-python",
   "name": "python",
   "nbconvert_exporter": "python",
   "pygments_lexer": "ipython3",
   "version": "3.6.13"
  }
 },
 "nbformat": 4,
 "nbformat_minor": 5
}
