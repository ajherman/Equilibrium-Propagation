{
 "cells": [
  {
   "cell_type": "code",
   "execution_count": 1,
   "id": "13bd405d",
   "metadata": {
    "mosaic": []
   },
   "outputs": [],
   "source": [
    "%matplotlib inline\n",
    "import os\n",
    "import glob\n",
    "import matplotlib\n",
    "import matplotlib.pyplot as plt\n",
    "import matplotlib.image as mpimg\n",
    "\n",
    "import re\n",
    "\n",
    "import torch\n",
    "\n",
    "from IPython.display import display, Image\n",
    "\n",
    "import pandas as pd\n",
    "\n",
    "import numpy as np"
   ]
  },
  {
   "cell_type": "code",
   "execution_count": 2,
   "id": "15859202",
   "metadata": {
    "mosaic": []
   },
   "outputs": [],
   "source": [
    "import sys\n",
    "sys.path.append('../')\n",
    "from output_utils import *"
   ]
  },
  {
   "cell_type": "code",
   "execution_count": 6,
   "id": "1a792f4b",
   "metadata": {
    "mosaic": []
   },
   "outputs": [],
   "source": [
    "runs = getruns('../Laborieux-Arch/')"
   ]
  },
  {
   "cell_type": "code",
   "execution_count": 4,
   "id": "b20bd13f",
   "metadata": {
    "mosaic": []
   },
   "outputs": [],
   "source": [
    "pd.options.display.float_format = '{:,.2f}'.format"
   ]
  },
  {
   "cell_type": "code",
   "execution_count": 7,
   "id": "9404ee64",
   "metadata": {
    "mosaic": [],
    "scrolled": false
   },
   "outputs": [
    {
     "data": {
      "text/html": [
       "<div>\n",
       "<style scoped>\n",
       "    .dataframe tbody tr th:only-of-type {\n",
       "        vertical-align: middle;\n",
       "    }\n",
       "\n",
       "    .dataframe tbody tr th {\n",
       "        vertical-align: top;\n",
       "    }\n",
       "\n",
       "    .dataframe thead th {\n",
       "        text-align: right;\n",
       "    }\n",
       "</style>\n",
       "<table border=\"1\" class=\"dataframe\">\n",
       "  <thead>\n",
       "    <tr style=\"text-align: right;\">\n",
       "      <th></th>\n",
       "      <th>task</th>\n",
       "      <th>model</th>\n",
       "      <th>test</th>\n",
       "      <th>train</th>\n",
       "      <th>softmax</th>\n",
       "      <th>loss</th>\n",
       "      <th>load_path_convert</th>\n",
       "      <th>competitiontype</th>\n",
       "      <th>inhibitstrength</th>\n",
       "      <th>lat_constraints</th>\n",
       "      <th>dir</th>\n",
       "    </tr>\n",
       "  </thead>\n",
       "  <tbody>\n",
       "    <tr>\n",
       "      <th>43</th>\n",
       "      <td>CIFAR10</td>\n",
       "      <td>CNN</td>\n",
       "      <td>74.03</td>\n",
       "      <td>73.34</td>\n",
       "      <td>False</td>\n",
       "      <td>mse</td>\n",
       "      <td></td>\n",
       "      <td>none</td>\n",
       "      <td>0.00</td>\n",
       "      <td>[]</td>\n",
       "      <td>../Laborieux-Arch/results/EP/mse/2023-08-03/14...</td>\n",
       "    </tr>\n",
       "    <tr>\n",
       "      <th>42</th>\n",
       "      <td>CIFAR10</td>\n",
       "      <td>LateralCNN</td>\n",
       "      <td>10.00</td>\n",
       "      <td>10.00</td>\n",
       "      <td>False</td>\n",
       "      <td>mse</td>\n",
       "      <td></td>\n",
       "      <td>none</td>\n",
       "      <td>0.00</td>\n",
       "      <td>[]</td>\n",
       "      <td>../Laborieux-Arch/results/EP/mse/2023-08-03/06...</td>\n",
       "    </tr>\n",
       "    <tr>\n",
       "      <th>41</th>\n",
       "      <td>CIFAR10</td>\n",
       "      <td>LateralCNN</td>\n",
       "      <td>10.00</td>\n",
       "      <td>10.00</td>\n",
       "      <td>False</td>\n",
       "      <td>mse</td>\n",
       "      <td></td>\n",
       "      <td>none</td>\n",
       "      <td>0.00</td>\n",
       "      <td>[]</td>\n",
       "      <td>../Laborieux-Arch/results/EP/mse/2023-08-03/06...</td>\n",
       "    </tr>\n",
       "    <tr>\n",
       "      <th>40</th>\n",
       "      <td>CIFAR10</td>\n",
       "      <td>LateralCNN</td>\n",
       "      <td>10.00</td>\n",
       "      <td>10.00</td>\n",
       "      <td>False</td>\n",
       "      <td>mse</td>\n",
       "      <td></td>\n",
       "      <td>none</td>\n",
       "      <td>0.00</td>\n",
       "      <td>[]</td>\n",
       "      <td>../Laborieux-Arch/results/EP/mse/2023-08-03/06...</td>\n",
       "    </tr>\n",
       "    <tr>\n",
       "      <th>39</th>\n",
       "      <td>CIFAR10</td>\n",
       "      <td>LateralCNN</td>\n",
       "      <td>10.00</td>\n",
       "      <td>10.00</td>\n",
       "      <td>False</td>\n",
       "      <td>mse</td>\n",
       "      <td></td>\n",
       "      <td>none</td>\n",
       "      <td>0.00</td>\n",
       "      <td>[]</td>\n",
       "      <td>../Laborieux-Arch/results/EP/mse/2023-08-03/05...</td>\n",
       "    </tr>\n",
       "    <tr>\n",
       "      <th>38</th>\n",
       "      <td>CIFAR10</td>\n",
       "      <td>LateralCNN</td>\n",
       "      <td>10.00</td>\n",
       "      <td>10.00</td>\n",
       "      <td>False</td>\n",
       "      <td>mse</td>\n",
       "      <td></td>\n",
       "      <td>none</td>\n",
       "      <td>0.00</td>\n",
       "      <td>[]</td>\n",
       "      <td>../Laborieux-Arch/results/EP/mse/2023-08-03/05...</td>\n",
       "    </tr>\n",
       "    <tr>\n",
       "      <th>37</th>\n",
       "      <td>CIFAR10</td>\n",
       "      <td>LateralCNN</td>\n",
       "      <td>10.00</td>\n",
       "      <td>10.00</td>\n",
       "      <td>False</td>\n",
       "      <td>mse</td>\n",
       "      <td></td>\n",
       "      <td>none</td>\n",
       "      <td>0.00</td>\n",
       "      <td>[]</td>\n",
       "      <td>../Laborieux-Arch/results/EP/mse/2023-08-03/04...</td>\n",
       "    </tr>\n",
       "    <tr>\n",
       "      <th>36</th>\n",
       "      <td>CIFAR10</td>\n",
       "      <td>LateralCNN</td>\n",
       "      <td>10.00</td>\n",
       "      <td>10.00</td>\n",
       "      <td>False</td>\n",
       "      <td>mse</td>\n",
       "      <td></td>\n",
       "      <td>none</td>\n",
       "      <td>0.00</td>\n",
       "      <td>[]</td>\n",
       "      <td>../Laborieux-Arch/results/EP/mse/2023-08-03/04...</td>\n",
       "    </tr>\n",
       "    <tr>\n",
       "      <th>35</th>\n",
       "      <td>CIFAR10</td>\n",
       "      <td>LateralCNN</td>\n",
       "      <td>10.00</td>\n",
       "      <td>10.00</td>\n",
       "      <td>False</td>\n",
       "      <td>mse</td>\n",
       "      <td></td>\n",
       "      <td>none</td>\n",
       "      <td>0.00</td>\n",
       "      <td>[]</td>\n",
       "      <td>../Laborieux-Arch/results/EP/mse/2023-08-03/03...</td>\n",
       "    </tr>\n",
       "    <tr>\n",
       "      <th>34</th>\n",
       "      <td>CIFAR10</td>\n",
       "      <td>LateralCNN</td>\n",
       "      <td>10.00</td>\n",
       "      <td>10.00</td>\n",
       "      <td>False</td>\n",
       "      <td>mse</td>\n",
       "      <td></td>\n",
       "      <td>none</td>\n",
       "      <td>0.00</td>\n",
       "      <td>[]</td>\n",
       "      <td>../Laborieux-Arch/results/EP/mse/2023-08-03/03...</td>\n",
       "    </tr>\n",
       "    <tr>\n",
       "      <th>33</th>\n",
       "      <td>CIFAR10</td>\n",
       "      <td>LateralCNN</td>\n",
       "      <td>10.00</td>\n",
       "      <td>10.00</td>\n",
       "      <td>False</td>\n",
       "      <td>mse</td>\n",
       "      <td></td>\n",
       "      <td>none</td>\n",
       "      <td>0.00</td>\n",
       "      <td>[]</td>\n",
       "      <td>../Laborieux-Arch/results/EP/mse/2023-08-03/01...</td>\n",
       "    </tr>\n",
       "    <tr>\n",
       "      <th>32</th>\n",
       "      <td>CIFAR10</td>\n",
       "      <td>LateralCNN</td>\n",
       "      <td>10.21</td>\n",
       "      <td>13.81</td>\n",
       "      <td>False</td>\n",
       "      <td>mse</td>\n",
       "      <td></td>\n",
       "      <td>none</td>\n",
       "      <td>0.00</td>\n",
       "      <td>[]</td>\n",
       "      <td>../Laborieux-Arch/results/EP/mse/2023-08-02/23...</td>\n",
       "    </tr>\n",
       "    <tr>\n",
       "      <th>31</th>\n",
       "      <td>CIFAR10</td>\n",
       "      <td>LateralCNN</td>\n",
       "      <td>19.95</td>\n",
       "      <td>13.02</td>\n",
       "      <td>False</td>\n",
       "      <td>mse</td>\n",
       "      <td></td>\n",
       "      <td>none</td>\n",
       "      <td>0.00</td>\n",
       "      <td>[]</td>\n",
       "      <td>../Laborieux-Arch/results/EP/mse/2023-08-02/22...</td>\n",
       "    </tr>\n",
       "    <tr>\n",
       "      <th>30</th>\n",
       "      <td>CIFAR10</td>\n",
       "      <td>LateralCNN</td>\n",
       "      <td>10.35</td>\n",
       "      <td>10.29</td>\n",
       "      <td>False</td>\n",
       "      <td>mse</td>\n",
       "      <td></td>\n",
       "      <td>none</td>\n",
       "      <td>0.00</td>\n",
       "      <td>[]</td>\n",
       "      <td>../Laborieux-Arch/results/EP/mse/2023-08-02/22...</td>\n",
       "    </tr>\n",
       "    <tr>\n",
       "      <th>29</th>\n",
       "      <td>CIFAR10</td>\n",
       "      <td>LateralCNN</td>\n",
       "      <td>19.99</td>\n",
       "      <td>13.07</td>\n",
       "      <td>False</td>\n",
       "      <td>mse</td>\n",
       "      <td></td>\n",
       "      <td>none</td>\n",
       "      <td>0.00</td>\n",
       "      <td>[]</td>\n",
       "      <td>../Laborieux-Arch/results/EP/mse/2023-08-02/22...</td>\n",
       "    </tr>\n",
       "    <tr>\n",
       "      <th>28</th>\n",
       "      <td>CIFAR10</td>\n",
       "      <td>LateralCNN</td>\n",
       "      <td>12.25</td>\n",
       "      <td>11.34</td>\n",
       "      <td>False</td>\n",
       "      <td>mse</td>\n",
       "      <td></td>\n",
       "      <td>none</td>\n",
       "      <td>0.00</td>\n",
       "      <td>[]</td>\n",
       "      <td>../Laborieux-Arch/results/EP/mse/2023-08-02/22...</td>\n",
       "    </tr>\n",
       "    <tr>\n",
       "      <th>27</th>\n",
       "      <td>CIFAR10</td>\n",
       "      <td>LateralCNN</td>\n",
       "      <td>18.61</td>\n",
       "      <td>12.14</td>\n",
       "      <td>False</td>\n",
       "      <td>mse</td>\n",
       "      <td></td>\n",
       "      <td>none</td>\n",
       "      <td>0.00</td>\n",
       "      <td>[]</td>\n",
       "      <td>../Laborieux-Arch/results/EP/mse/2023-08-02/21...</td>\n",
       "    </tr>\n",
       "    <tr>\n",
       "      <th>26</th>\n",
       "      <td>CIFAR10</td>\n",
       "      <td>LateralCNN</td>\n",
       "      <td>10.00</td>\n",
       "      <td>10.51</td>\n",
       "      <td>False</td>\n",
       "      <td>mse</td>\n",
       "      <td></td>\n",
       "      <td>none</td>\n",
       "      <td>0.00</td>\n",
       "      <td>[]</td>\n",
       "      <td>../Laborieux-Arch/results/EP/mse/2023-08-02/21...</td>\n",
       "    </tr>\n",
       "    <tr>\n",
       "      <th>25</th>\n",
       "      <td>CIFAR10</td>\n",
       "      <td>LateralCNN</td>\n",
       "      <td>10.00</td>\n",
       "      <td>10.51</td>\n",
       "      <td>False</td>\n",
       "      <td>mse</td>\n",
       "      <td></td>\n",
       "      <td>none</td>\n",
       "      <td>0.00</td>\n",
       "      <td>[]</td>\n",
       "      <td>../Laborieux-Arch/results/EP/mse/2023-08-02/20...</td>\n",
       "    </tr>\n",
       "    <tr>\n",
       "      <th>24</th>\n",
       "      <td>CIFAR10</td>\n",
       "      <td>LateralCNN</td>\n",
       "      <td>10.00</td>\n",
       "      <td>10.00</td>\n",
       "      <td>False</td>\n",
       "      <td>mse</td>\n",
       "      <td></td>\n",
       "      <td>none</td>\n",
       "      <td>0.00</td>\n",
       "      <td>[]</td>\n",
       "      <td>../Laborieux-Arch/results/EP/mse/2023-08-02/20...</td>\n",
       "    </tr>\n",
       "    <tr>\n",
       "      <th>23</th>\n",
       "      <td>CIFAR10</td>\n",
       "      <td>LateralCNN</td>\n",
       "      <td>10.00</td>\n",
       "      <td>10.00</td>\n",
       "      <td>False</td>\n",
       "      <td>mse</td>\n",
       "      <td></td>\n",
       "      <td>none</td>\n",
       "      <td>0.00</td>\n",
       "      <td>[]</td>\n",
       "      <td>../Laborieux-Arch/results/EP/mse/2023-08-02/20...</td>\n",
       "    </tr>\n",
       "    <tr>\n",
       "      <th>22</th>\n",
       "      <td>CIFAR10</td>\n",
       "      <td>LateralCNN</td>\n",
       "      <td>10.00</td>\n",
       "      <td>10.00</td>\n",
       "      <td>False</td>\n",
       "      <td>mse</td>\n",
       "      <td></td>\n",
       "      <td>none</td>\n",
       "      <td>0.00</td>\n",
       "      <td>[]</td>\n",
       "      <td>../Laborieux-Arch/results/EP/mse/2023-08-02/19...</td>\n",
       "    </tr>\n",
       "    <tr>\n",
       "      <th>21</th>\n",
       "      <td>CIFAR10</td>\n",
       "      <td>SparseCNN</td>\n",
       "      <td>10.00</td>\n",
       "      <td>10.04</td>\n",
       "      <td>False</td>\n",
       "      <td>mse</td>\n",
       "      <td></td>\n",
       "      <td>feature_inner_products</td>\n",
       "      <td>1.00</td>\n",
       "      <td>[]</td>\n",
       "      <td>../Laborieux-Arch/results/EP/mse/2023-08-01/11...</td>\n",
       "    </tr>\n",
       "    <tr>\n",
       "      <th>20</th>\n",
       "      <td>CIFAR10</td>\n",
       "      <td>SparseCNN</td>\n",
       "      <td>10.13</td>\n",
       "      <td>11.48</td>\n",
       "      <td>False</td>\n",
       "      <td>mse</td>\n",
       "      <td></td>\n",
       "      <td>feature_inner_products</td>\n",
       "      <td>1.00</td>\n",
       "      <td>[]</td>\n",
       "      <td>../Laborieux-Arch/results/EP/mse/2023-08-01/10...</td>\n",
       "    </tr>\n",
       "    <tr>\n",
       "      <th>19</th>\n",
       "      <td>CIFAR10</td>\n",
       "      <td>LatSoftCNN</td>\n",
       "      <td>86.87</td>\n",
       "      <td>91.31</td>\n",
       "      <td>False</td>\n",
       "      <td>mse</td>\n",
       "      <td></td>\n",
       "      <td>feature_inner_products</td>\n",
       "      <td>1.00</td>\n",
       "      <td>[zerodiag]</td>\n",
       "      <td>../Laborieux-Arch/results/EP/mse/2023-07-30/fe...</td>\n",
       "    </tr>\n",
       "    <tr>\n",
       "      <th>18</th>\n",
       "      <td>CIFAR10</td>\n",
       "      <td>LatSoftCNN</td>\n",
       "      <td>86.87</td>\n",
       "      <td>91.31</td>\n",
       "      <td>False</td>\n",
       "      <td>mse</td>\n",
       "      <td></td>\n",
       "      <td>feature_inner_products</td>\n",
       "      <td>1.00</td>\n",
       "      <td>[zerodiag]</td>\n",
       "      <td>../Laborieux-Arch/results/EP/mse/2023-07-30/21...</td>\n",
       "    </tr>\n",
       "    <tr>\n",
       "      <th>17</th>\n",
       "      <td>CIFAR10</td>\n",
       "      <td>LatSoftCNN</td>\n",
       "      <td>19.43</td>\n",
       "      <td>15.73</td>\n",
       "      <td>False</td>\n",
       "      <td>mse</td>\n",
       "      <td></td>\n",
       "      <td>feature_inner_products</td>\n",
       "      <td>1.00</td>\n",
       "      <td>[zerodiag_negReLu]</td>\n",
       "      <td>../Laborieux-Arch/results/EP/mse/2023-07-30/17...</td>\n",
       "    </tr>\n",
       "    <tr>\n",
       "      <th>16</th>\n",
       "      <td>CIFAR10</td>\n",
       "      <td>LatSoftCNN</td>\n",
       "      <td>19.43</td>\n",
       "      <td>15.73</td>\n",
       "      <td>False</td>\n",
       "      <td>mse</td>\n",
       "      <td></td>\n",
       "      <td>feature_inner_products</td>\n",
       "      <td>1.00</td>\n",
       "      <td>[zerodiag]</td>\n",
       "      <td>../Laborieux-Arch/results/EP/mse/2023-07-30/17...</td>\n",
       "    </tr>\n",
       "    <tr>\n",
       "      <th>15</th>\n",
       "      <td>CIFAR10</td>\n",
       "      <td>LatSoftCNN</td>\n",
       "      <td>39.07</td>\n",
       "      <td>33.71</td>\n",
       "      <td>False</td>\n",
       "      <td>mse</td>\n",
       "      <td></td>\n",
       "      <td>feature_inner_products</td>\n",
       "      <td>1.00</td>\n",
       "      <td>[zerodiag]</td>\n",
       "      <td>../Laborieux-Arch/results/EP/mse/2023-07-30/15...</td>\n",
       "    </tr>\n",
       "    <tr>\n",
       "      <th>14</th>\n",
       "      <td>CIFAR10</td>\n",
       "      <td>LatSoftCNN</td>\n",
       "      <td>17.36</td>\n",
       "      <td>17.81</td>\n",
       "      <td>False</td>\n",
       "      <td>mse</td>\n",
       "      <td></td>\n",
       "      <td>feature_inner_products</td>\n",
       "      <td>1.00</td>\n",
       "      <td>[zerodiag]</td>\n",
       "      <td>../Laborieux-Arch/results/EP/mse/2023-07-29/11...</td>\n",
       "    </tr>\n",
       "    <tr>\n",
       "      <th>13</th>\n",
       "      <td>CIFAR10</td>\n",
       "      <td>LatSoftCNN</td>\n",
       "      <td>27.35</td>\n",
       "      <td>17.47</td>\n",
       "      <td>False</td>\n",
       "      <td>mse</td>\n",
       "      <td></td>\n",
       "      <td>feature_inner_products</td>\n",
       "      <td>1.00</td>\n",
       "      <td>[zerodiag]</td>\n",
       "      <td>../Laborieux-Arch/results/EP/mse/2023-07-29/00...</td>\n",
       "    </tr>\n",
       "    <tr>\n",
       "      <th>12</th>\n",
       "      <td>CIFAR10</td>\n",
       "      <td>LatSoftCNN</td>\n",
       "      <td>10.24</td>\n",
       "      <td>14.68</td>\n",
       "      <td>False</td>\n",
       "      <td>mse</td>\n",
       "      <td></td>\n",
       "      <td>feature_inner_products</td>\n",
       "      <td>1.00</td>\n",
       "      <td>[zerodiag]</td>\n",
       "      <td>../Laborieux-Arch/results/EP/mse/2023-07-28/23...</td>\n",
       "    </tr>\n",
       "    <tr>\n",
       "      <th>11</th>\n",
       "      <td>CIFAR10</td>\n",
       "      <td>LatSoftCNN</td>\n",
       "      <td>10.25</td>\n",
       "      <td>14.83</td>\n",
       "      <td>False</td>\n",
       "      <td>mse</td>\n",
       "      <td></td>\n",
       "      <td>feature_inner_products</td>\n",
       "      <td>1.00</td>\n",
       "      <td>[zerodiag]</td>\n",
       "      <td>../Laborieux-Arch/results/EP/mse/2023-07-28/22...</td>\n",
       "    </tr>\n",
       "    <tr>\n",
       "      <th>10</th>\n",
       "      <td>CIFAR10</td>\n",
       "      <td>LatSoftCNN</td>\n",
       "      <td>43.35</td>\n",
       "      <td>42.41</td>\n",
       "      <td>False</td>\n",
       "      <td>mse</td>\n",
       "      <td></td>\n",
       "      <td>feature_inner_products</td>\n",
       "      <td>1.00</td>\n",
       "      <td>[zerodiag]</td>\n",
       "      <td>../Laborieux-Arch/results/EP/mse/2023-07-27/23...</td>\n",
       "    </tr>\n",
       "    <tr>\n",
       "      <th>9</th>\n",
       "      <td>CIFAR10</td>\n",
       "      <td>LatSoftCNN</td>\n",
       "      <td>19.97</td>\n",
       "      <td>16.38</td>\n",
       "      <td>False</td>\n",
       "      <td>mse</td>\n",
       "      <td></td>\n",
       "      <td>feature_inner_products</td>\n",
       "      <td>1.00</td>\n",
       "      <td>[zerodiag]</td>\n",
       "      <td>../Laborieux-Arch/results/EP/mse/2023-07-27/19...</td>\n",
       "    </tr>\n",
       "    <tr>\n",
       "      <th>8</th>\n",
       "      <td>CIFAR10</td>\n",
       "      <td>LatSoftCNN</td>\n",
       "      <td>19.97</td>\n",
       "      <td>16.38</td>\n",
       "      <td>False</td>\n",
       "      <td>mse</td>\n",
       "      <td></td>\n",
       "      <td>feature_inner_products</td>\n",
       "      <td>1.00</td>\n",
       "      <td>[zerodiag]</td>\n",
       "      <td>../Laborieux-Arch/results/EP/mse/2023-07-27/19...</td>\n",
       "    </tr>\n",
       "    <tr>\n",
       "      <th>7</th>\n",
       "      <td>CIFAR10</td>\n",
       "      <td>LatSoftCNN</td>\n",
       "      <td>79.71</td>\n",
       "      <td>91.98</td>\n",
       "      <td>False</td>\n",
       "      <td>mse</td>\n",
       "      <td></td>\n",
       "      <td>feature_inner_products</td>\n",
       "      <td>1.00</td>\n",
       "      <td>[zerodiag]</td>\n",
       "      <td>../Laborieux-Arch/results/EP/mse/2023-07-24/23...</td>\n",
       "    </tr>\n",
       "    <tr>\n",
       "      <th>6</th>\n",
       "      <td>CIFAR10</td>\n",
       "      <td>LatSoftCNN</td>\n",
       "      <td>10.00</td>\n",
       "      <td>10.02</td>\n",
       "      <td>False</td>\n",
       "      <td>mse</td>\n",
       "      <td></td>\n",
       "      <td>feature_inner_products</td>\n",
       "      <td>1.00</td>\n",
       "      <td>[zerodiag]</td>\n",
       "      <td>../Laborieux-Arch/results/EP/mse/2023-07-23/22...</td>\n",
       "    </tr>\n",
       "    <tr>\n",
       "      <th>5</th>\n",
       "      <td>CIFAR10</td>\n",
       "      <td>CNN</td>\n",
       "      <td>10.00</td>\n",
       "      <td>10.03</td>\n",
       "      <td>False</td>\n",
       "      <td>mse</td>\n",
       "      <td></td>\n",
       "      <td>none</td>\n",
       "      <td>0.00</td>\n",
       "      <td>[]</td>\n",
       "      <td>../Laborieux-Arch/results/EP/mse/2023-07-18/12...</td>\n",
       "    </tr>\n",
       "    <tr>\n",
       "      <th>4</th>\n",
       "      <td>CIFAR10</td>\n",
       "      <td>CNN</td>\n",
       "      <td>87.73</td>\n",
       "      <td>94.75</td>\n",
       "      <td>True</td>\n",
       "      <td>cel</td>\n",
       "      <td></td>\n",
       "      <td>none</td>\n",
       "      <td>0.00</td>\n",
       "      <td>[]</td>\n",
       "      <td>../Laborieux-Arch/results/EP/cel/2023-07-29/or...</td>\n",
       "    </tr>\n",
       "    <tr>\n",
       "      <th>3</th>\n",
       "      <td>CIFAR10</td>\n",
       "      <td>CNN</td>\n",
       "      <td>87.22</td>\n",
       "      <td>92.12</td>\n",
       "      <td>True</td>\n",
       "      <td>cel</td>\n",
       "      <td></td>\n",
       "      <td>none</td>\n",
       "      <td>0.00</td>\n",
       "      <td>[]</td>\n",
       "      <td>../Laborieux-Arch/results/EP/cel/2023-07-24/09...</td>\n",
       "    </tr>\n",
       "    <tr>\n",
       "      <th>2</th>\n",
       "      <td>CIFAR10</td>\n",
       "      <td>CNN</td>\n",
       "      <td>75.46</td>\n",
       "      <td>73.72</td>\n",
       "      <td>True</td>\n",
       "      <td>cel</td>\n",
       "      <td></td>\n",
       "      <td>none</td>\n",
       "      <td>0.00</td>\n",
       "      <td>[]</td>\n",
       "      <td>../Laborieux-Arch/results/EP/cel/2023-07-24/09...</td>\n",
       "    </tr>\n",
       "    <tr>\n",
       "      <th>1</th>\n",
       "      <td>CIFAR10</td>\n",
       "      <td>CNN</td>\n",
       "      <td>37.08</td>\n",
       "      <td>34.60</td>\n",
       "      <td>False</td>\n",
       "      <td>cel</td>\n",
       "      <td></td>\n",
       "      <td>none</td>\n",
       "      <td>0.00</td>\n",
       "      <td>[]</td>\n",
       "      <td>../Laborieux-Arch/results/EP/cel/2023-07-18/12...</td>\n",
       "    </tr>\n",
       "    <tr>\n",
       "      <th>0</th>\n",
       "      <td>CIFAR10</td>\n",
       "      <td>CNN</td>\n",
       "      <td>47.87</td>\n",
       "      <td>45.92</td>\n",
       "      <td>False</td>\n",
       "      <td>cel</td>\n",
       "      <td></td>\n",
       "      <td>none</td>\n",
       "      <td>0.00</td>\n",
       "      <td>[]</td>\n",
       "      <td>../Laborieux-Arch/results/EP/cel/2023-07-18/12...</td>\n",
       "    </tr>\n",
       "  </tbody>\n",
       "</table>\n",
       "</div>"
      ],
      "text/plain": [
       "       task       model  test  train  softmax loss load_path_convert  \\\n",
       "43  CIFAR10         CNN 74.03  73.34    False  mse                     \n",
       "42  CIFAR10  LateralCNN 10.00  10.00    False  mse                     \n",
       "41  CIFAR10  LateralCNN 10.00  10.00    False  mse                     \n",
       "40  CIFAR10  LateralCNN 10.00  10.00    False  mse                     \n",
       "39  CIFAR10  LateralCNN 10.00  10.00    False  mse                     \n",
       "38  CIFAR10  LateralCNN 10.00  10.00    False  mse                     \n",
       "37  CIFAR10  LateralCNN 10.00  10.00    False  mse                     \n",
       "36  CIFAR10  LateralCNN 10.00  10.00    False  mse                     \n",
       "35  CIFAR10  LateralCNN 10.00  10.00    False  mse                     \n",
       "34  CIFAR10  LateralCNN 10.00  10.00    False  mse                     \n",
       "33  CIFAR10  LateralCNN 10.00  10.00    False  mse                     \n",
       "32  CIFAR10  LateralCNN 10.21  13.81    False  mse                     \n",
       "31  CIFAR10  LateralCNN 19.95  13.02    False  mse                     \n",
       "30  CIFAR10  LateralCNN 10.35  10.29    False  mse                     \n",
       "29  CIFAR10  LateralCNN 19.99  13.07    False  mse                     \n",
       "28  CIFAR10  LateralCNN 12.25  11.34    False  mse                     \n",
       "27  CIFAR10  LateralCNN 18.61  12.14    False  mse                     \n",
       "26  CIFAR10  LateralCNN 10.00  10.51    False  mse                     \n",
       "25  CIFAR10  LateralCNN 10.00  10.51    False  mse                     \n",
       "24  CIFAR10  LateralCNN 10.00  10.00    False  mse                     \n",
       "23  CIFAR10  LateralCNN 10.00  10.00    False  mse                     \n",
       "22  CIFAR10  LateralCNN 10.00  10.00    False  mse                     \n",
       "21  CIFAR10   SparseCNN 10.00  10.04    False  mse                     \n",
       "20  CIFAR10   SparseCNN 10.13  11.48    False  mse                     \n",
       "19  CIFAR10  LatSoftCNN 86.87  91.31    False  mse                     \n",
       "18  CIFAR10  LatSoftCNN 86.87  91.31    False  mse                     \n",
       "17  CIFAR10  LatSoftCNN 19.43  15.73    False  mse                     \n",
       "16  CIFAR10  LatSoftCNN 19.43  15.73    False  mse                     \n",
       "15  CIFAR10  LatSoftCNN 39.07  33.71    False  mse                     \n",
       "14  CIFAR10  LatSoftCNN 17.36  17.81    False  mse                     \n",
       "13  CIFAR10  LatSoftCNN 27.35  17.47    False  mse                     \n",
       "12  CIFAR10  LatSoftCNN 10.24  14.68    False  mse                     \n",
       "11  CIFAR10  LatSoftCNN 10.25  14.83    False  mse                     \n",
       "10  CIFAR10  LatSoftCNN 43.35  42.41    False  mse                     \n",
       "9   CIFAR10  LatSoftCNN 19.97  16.38    False  mse                     \n",
       "8   CIFAR10  LatSoftCNN 19.97  16.38    False  mse                     \n",
       "7   CIFAR10  LatSoftCNN 79.71  91.98    False  mse                     \n",
       "6   CIFAR10  LatSoftCNN 10.00  10.02    False  mse                     \n",
       "5   CIFAR10         CNN 10.00  10.03    False  mse                     \n",
       "4   CIFAR10         CNN 87.73  94.75     True  cel                     \n",
       "3   CIFAR10         CNN 87.22  92.12     True  cel                     \n",
       "2   CIFAR10         CNN 75.46  73.72     True  cel                     \n",
       "1   CIFAR10         CNN 37.08  34.60    False  cel                     \n",
       "0   CIFAR10         CNN 47.87  45.92    False  cel                     \n",
       "\n",
       "           competitiontype  inhibitstrength     lat_constraints  \\\n",
       "43                    none             0.00                  []   \n",
       "42                    none             0.00                  []   \n",
       "41                    none             0.00                  []   \n",
       "40                    none             0.00                  []   \n",
       "39                    none             0.00                  []   \n",
       "38                    none             0.00                  []   \n",
       "37                    none             0.00                  []   \n",
       "36                    none             0.00                  []   \n",
       "35                    none             0.00                  []   \n",
       "34                    none             0.00                  []   \n",
       "33                    none             0.00                  []   \n",
       "32                    none             0.00                  []   \n",
       "31                    none             0.00                  []   \n",
       "30                    none             0.00                  []   \n",
       "29                    none             0.00                  []   \n",
       "28                    none             0.00                  []   \n",
       "27                    none             0.00                  []   \n",
       "26                    none             0.00                  []   \n",
       "25                    none             0.00                  []   \n",
       "24                    none             0.00                  []   \n",
       "23                    none             0.00                  []   \n",
       "22                    none             0.00                  []   \n",
       "21  feature_inner_products             1.00                  []   \n",
       "20  feature_inner_products             1.00                  []   \n",
       "19  feature_inner_products             1.00          [zerodiag]   \n",
       "18  feature_inner_products             1.00          [zerodiag]   \n",
       "17  feature_inner_products             1.00  [zerodiag_negReLu]   \n",
       "16  feature_inner_products             1.00          [zerodiag]   \n",
       "15  feature_inner_products             1.00          [zerodiag]   \n",
       "14  feature_inner_products             1.00          [zerodiag]   \n",
       "13  feature_inner_products             1.00          [zerodiag]   \n",
       "12  feature_inner_products             1.00          [zerodiag]   \n",
       "11  feature_inner_products             1.00          [zerodiag]   \n",
       "10  feature_inner_products             1.00          [zerodiag]   \n",
       "9   feature_inner_products             1.00          [zerodiag]   \n",
       "8   feature_inner_products             1.00          [zerodiag]   \n",
       "7   feature_inner_products             1.00          [zerodiag]   \n",
       "6   feature_inner_products             1.00          [zerodiag]   \n",
       "5                     none             0.00                  []   \n",
       "4                     none             0.00                  []   \n",
       "3                     none             0.00                  []   \n",
       "2                     none             0.00                  []   \n",
       "1                     none             0.00                  []   \n",
       "0                     none             0.00                  []   \n",
       "\n",
       "                                                  dir  \n",
       "43  ../Laborieux-Arch/results/EP/mse/2023-08-03/14...  \n",
       "42  ../Laborieux-Arch/results/EP/mse/2023-08-03/06...  \n",
       "41  ../Laborieux-Arch/results/EP/mse/2023-08-03/06...  \n",
       "40  ../Laborieux-Arch/results/EP/mse/2023-08-03/06...  \n",
       "39  ../Laborieux-Arch/results/EP/mse/2023-08-03/05...  \n",
       "38  ../Laborieux-Arch/results/EP/mse/2023-08-03/05...  \n",
       "37  ../Laborieux-Arch/results/EP/mse/2023-08-03/04...  \n",
       "36  ../Laborieux-Arch/results/EP/mse/2023-08-03/04...  \n",
       "35  ../Laborieux-Arch/results/EP/mse/2023-08-03/03...  \n",
       "34  ../Laborieux-Arch/results/EP/mse/2023-08-03/03...  \n",
       "33  ../Laborieux-Arch/results/EP/mse/2023-08-03/01...  \n",
       "32  ../Laborieux-Arch/results/EP/mse/2023-08-02/23...  \n",
       "31  ../Laborieux-Arch/results/EP/mse/2023-08-02/22...  \n",
       "30  ../Laborieux-Arch/results/EP/mse/2023-08-02/22...  \n",
       "29  ../Laborieux-Arch/results/EP/mse/2023-08-02/22...  \n",
       "28  ../Laborieux-Arch/results/EP/mse/2023-08-02/22...  \n",
       "27  ../Laborieux-Arch/results/EP/mse/2023-08-02/21...  \n",
       "26  ../Laborieux-Arch/results/EP/mse/2023-08-02/21...  \n",
       "25  ../Laborieux-Arch/results/EP/mse/2023-08-02/20...  \n",
       "24  ../Laborieux-Arch/results/EP/mse/2023-08-02/20...  \n",
       "23  ../Laborieux-Arch/results/EP/mse/2023-08-02/20...  \n",
       "22  ../Laborieux-Arch/results/EP/mse/2023-08-02/19...  \n",
       "21  ../Laborieux-Arch/results/EP/mse/2023-08-01/11...  \n",
       "20  ../Laborieux-Arch/results/EP/mse/2023-08-01/10...  \n",
       "19  ../Laborieux-Arch/results/EP/mse/2023-07-30/fe...  \n",
       "18  ../Laborieux-Arch/results/EP/mse/2023-07-30/21...  \n",
       "17  ../Laborieux-Arch/results/EP/mse/2023-07-30/17...  \n",
       "16  ../Laborieux-Arch/results/EP/mse/2023-07-30/17...  \n",
       "15  ../Laborieux-Arch/results/EP/mse/2023-07-30/15...  \n",
       "14  ../Laborieux-Arch/results/EP/mse/2023-07-29/11...  \n",
       "13  ../Laborieux-Arch/results/EP/mse/2023-07-29/00...  \n",
       "12  ../Laborieux-Arch/results/EP/mse/2023-07-28/23...  \n",
       "11  ../Laborieux-Arch/results/EP/mse/2023-07-28/22...  \n",
       "10  ../Laborieux-Arch/results/EP/mse/2023-07-27/23...  \n",
       "9   ../Laborieux-Arch/results/EP/mse/2023-07-27/19...  \n",
       "8   ../Laborieux-Arch/results/EP/mse/2023-07-27/19...  \n",
       "7   ../Laborieux-Arch/results/EP/mse/2023-07-24/23...  \n",
       "6   ../Laborieux-Arch/results/EP/mse/2023-07-23/22...  \n",
       "5   ../Laborieux-Arch/results/EP/mse/2023-07-18/12...  \n",
       "4   ../Laborieux-Arch/results/EP/cel/2023-07-29/or...  \n",
       "3   ../Laborieux-Arch/results/EP/cel/2023-07-24/09...  \n",
       "2   ../Laborieux-Arch/results/EP/cel/2023-07-24/09...  \n",
       "1   ../Laborieux-Arch/results/EP/cel/2023-07-18/12...  \n",
       "0   ../Laborieux-Arch/results/EP/cel/2023-07-18/12...  "
      ]
     },
     "execution_count": 7,
     "metadata": {},
     "output_type": "execute_result"
    }
   ],
   "source": [
    "runsdf = pd.DataFrame(runs)\n",
    "runsdf.sort_values('dir', ascending=False)[['task', 'model', 'test', 'train', 'softmax', 'loss', 'load_path_convert', 'competitiontype', 'inhibitstrength', 'lat_constraints', 'dir']]"
   ]
  },
  {
   "cell_type": "code",
   "execution_count": 6,
   "id": "0fb980cd",
   "metadata": {
    "mosaic": []
   },
   "outputs": [
    {
     "data": {
      "text/html": [
       "<div>\n",
       "<style scoped>\n",
       "    .dataframe tbody tr th:only-of-type {\n",
       "        vertical-align: middle;\n",
       "    }\n",
       "\n",
       "    .dataframe tbody tr th {\n",
       "        vertical-align: top;\n",
       "    }\n",
       "\n",
       "    .dataframe thead th {\n",
       "        text-align: right;\n",
       "    }\n",
       "</style>\n",
       "<table border=\"1\" class=\"dataframe\">\n",
       "  <thead>\n",
       "    <tr style=\"text-align: right;\">\n",
       "      <th></th>\n",
       "      <th>model</th>\n",
       "      <th>loss</th>\n",
       "      <th>softmax</th>\n",
       "      <th>train</th>\n",
       "      <th>test</th>\n",
       "      <th>inhibitstrength</th>\n",
       "    </tr>\n",
       "  </thead>\n",
       "  <tbody>\n",
       "    <tr>\n",
       "      <th>0</th>\n",
       "      <td>CNN softmax=False (mse)</td>\n",
       "      <td>mse</td>\n",
       "      <td>False</td>\n",
       "      <td>60.08</td>\n",
       "      <td>53.09</td>\n",
       "      <td>0.00</td>\n",
       "    </tr>\n",
       "    <tr>\n",
       "      <th>1</th>\n",
       "      <td>CNN softmax=True (cel)</td>\n",
       "      <td>cel</td>\n",
       "      <td>True</td>\n",
       "      <td>54.11</td>\n",
       "      <td>51.73</td>\n",
       "      <td>0.00</td>\n",
       "    </tr>\n",
       "  </tbody>\n",
       "</table>\n",
       "</div>"
      ],
      "text/plain": [
       "                     model loss  softmax  train  test  inhibitstrength\n",
       "0  CNN softmax=False (mse)  mse    False  60.08 53.09             0.00\n",
       "1   CNN softmax=True (cel)  cel     True  54.11 51.73             0.00"
      ]
     },
     "execution_count": 6,
     "metadata": {},
     "output_type": "execute_result"
    }
   ],
   "source": [
    "subset = np.logical_or(runsdf['model'] != 'LatSoftCNN',\n",
    "                       np.logical_and(runsdf['competitiontype'] == 'feature_inner_products',\n",
    "                                      runsdf['inhibitstrength'] == 1.0,\n",
    "                                      np.array(list(map(lambda x: len(x) > 0,runsdf['lat_constraints']))) == 0)\n",
    "                      )\n",
    "avgdf = runsdf[subset].groupby(['model', 'softmax', 'loss'], as_index=False)\n",
    "avgdf = avgdf[['model', 'softmax', 'loss', 'train', 'test', 'inhibitstrength']]\n",
    "avgdf = avgdf.mean()\n",
    "avgdf['model'] = avgdf['model'] + ' softmax='+np.vectorize(str)(avgdf['softmax']) + ' (' + avgdf['loss'] + ')'\n",
    "avgdf.sort_values('test', ascending=False)"
   ]
  },
  {
   "cell_type": "code",
   "execution_count": 29,
   "id": "e3fba161",
   "metadata": {
    "mosaic": [
     "0"
    ]
   },
   "outputs": [
    {
     "data": {
      "text/plain": [
       "(85.0, 100.0)"
      ]
     },
     "execution_count": 29,
     "metadata": {},
     "output_type": "execute_result"
    },
    {
     "data": {
      "image/png": "[encoded data removed]",
      "text/plain": [
       "<Figure size 648x648 with 1 Axes>"
      ]
     },
     "metadata": {
      "needs_background": "light"
     },
     "output_type": "display_data"
    }
   ],
   "source": [
    "avgdf[avgdf['loss'] == 'cel'].plot.bar('model', ['test', 'train'], figsize = (9,9))\n",
    "plt.gca().set_title('Lateral Competition vs. External Softmax Layer')\n",
    "plt.ylim(85, 100)\n",
    "# plt.savefig('LatSoft_CNN_CNN--softmax_test_and_train_cel.png')"
   ]
  },
  {
   "cell_type": "code",
   "execution_count": 30,
   "id": "7399b35c",
   "metadata": {
    "mosaic": [
     "0"
    ]
   },
   "outputs": [
    {
     "data": {
      "text/plain": [
       "(85.0, 100.0)"
      ]
     },
     "execution_count": 30,
     "metadata": {},
     "output_type": "execute_result"
    },
    {
     "data": {
      "image/png": "[encoded data removed]",
      "text/plain": [
       "<Figure size 648x648 with 1 Axes>"
      ]
     },
     "metadata": {
      "needs_background": "light"
     },
     "output_type": "display_data"
    }
   ],
   "source": [
    "avgdf[avgdf['loss'] == 'mse'].plot.bar('model', ['test', 'train'], figsize = (9,9))\n",
    "plt.gca().set_title('Lateral Competition vs. External Softmax Layer')\n",
    "plt.ylim(85, 100)\n",
    "# plt.savefig('LatSoft_CNN_CNN--softmax_test_and_train_mse.png')"
   ]
  },
  {
   "cell_type": "code",
   "execution_count": 73,
   "id": "0ea1d90a",
   "metadata": {
    "mosaic": []
   },
   "outputs": [],
   "source": [
    "path = 'results/EP/cel/2023-07-18/10-31-15_gpu0/'\n",
    "model = torch.load(path + 'model.pt')"
   ]
  },
  {
   "cell_type": "code",
   "execution_count": 59,
   "id": "e404e068",
   "metadata": {
    "mosaic": []
   },
   "outputs": [
    {
     "data": {
      "text/plain": [
       "<matplotlib.colorbar.Colorbar at 0x7ff016344940>"
      ]
     },
     "execution_count": 59,
     "metadata": {},
     "output_type": "execute_result"
    },
    {
     "data": {
      "image/png": "[encoded data removed]",
      "text/plain": [
       "<Figure size 432x288 with 2 Axes>"
      ]
     },
     "metadata": {
      "needs_background": "light"
     },
     "output_type": "display_data"
    }
   ],
   "source": [
    "plt.imshow(model.lat_syn[-1].weight.data.cpu(), vmin=-1, vmax=1, cmap='seismic')\n",
    "plt.colorbar()"
   ]
  },
  {
   "cell_type": "code",
   "execution_count": 20,
   "id": "ff923bb5",
   "metadata": {
    "mosaic": []
   },
   "outputs": [],
   "source": [
    "path2 = 'results/EP/mse/2023-07-18/14-53-22_gpu1/'\n",
    "model2 = torch.load(path + 'model.pt')"
   ]
  },
  {
   "cell_type": "code",
   "execution_count": 21,
   "id": "bb332f98",
   "metadata": {
    "mosaic": []
   },
   "outputs": [
    {
     "data": {
      "text/plain": [
       "<matplotlib.colorbar.Colorbar at 0x7ff0746abc18>"
      ]
     },
     "execution_count": 21,
     "metadata": {},
     "output_type": "execute_result"
    },
    {
     "data": {
      "image/png": "[encoded data removed]",
      "text/plain": [
       "<Figure size 432x288 with 2 Axes>"
      ]
     },
     "metadata": {
      "needs_background": "light"
     },
     "output_type": "display_data"
    }
   ],
   "source": [
    "plt.imshow(model2.lat_syn[-1].weight.data.cpu(), vmin=-1, vmax=1, cmap='seismic')\n",
    "plt.colorbar()"
   ]
  },
  {
   "cell_type": "code",
   "execution_count": 86,
   "id": "749034f2",
   "metadata": {
    "mosaic": []
   },
   "outputs": [],
   "source": [
    "path3 = 'results/EP/cel/2023-07-18/10-34-55_gpu1/'\n",
    "model3 = torch.load(path3 + 'model.pt')"
   ]
  },
  {
   "cell_type": "code",
   "execution_count": 87,
   "id": "baae4c05",
   "metadata": {
    "mosaic": []
   },
   "outputs": [
    {
     "name": "stdout",
     "output_type": "stream",
     "text": [
      "torch.Size([10, 2304])\n"
     ]
    },
    {
     "data": {
      "text/plain": [
       "<matplotlib.colorbar.Colorbar at 0x7ff0142599e8>"
      ]
     },
     "execution_count": 87,
     "metadata": {},
     "output_type": "execute_result"
    },
    {
     "data": {
      "image/png": "[encoded data removed]",
      "text/plain": [
       "<Figure size 432x288 with 2 Axes>"
      ]
     },
     "metadata": {
      "needs_background": "light"
     },
     "output_type": "display_data"
    }
   ],
   "source": [
    "features = model3.synapses[-1].weight.data.cpu()\n",
    "print(features.size())\n",
    "latcon = torch.zeros((10,10))\n",
    "for i in range(features.size(0)):\n",
    "    latcon[i,:] = torch.sum(features[i] * features[:], dim=1) #, aspect=100, cmap='seismic', vmin=-1e-1, vmax=1e-1)\n",
    "    latcon[i,i] = 0\n",
    "\n",
    "plt.imshow(-latcon, cmap='seismic', vmin=-1, vmax=1)\n",
    "plt.colorbar()"
   ]
  },
  {
   "cell_type": "code",
   "execution_count": 46,
   "id": "82777e12",
   "metadata": {
    "mosaic": []
   },
   "outputs": [
    {
     "name": "stdout",
     "output_type": "stream",
     "text": [
      "torch.Size([10, 2304])\n"
     ]
    },
    {
     "data": {
      "text/plain": [
       "<matplotlib.legend.Legend at 0x7ff0741e40b8>"
      ]
     },
     "execution_count": 46,
     "metadata": {},
     "output_type": "execute_result"
    },
    {
     "data": {
      "image/png": "[encoded data removed]",
      "text/plain": [
       "<Figure size 432x288 with 1 Axes>"
      ]
     },
     "metadata": {
      "needs_background": "light"
     },
     "output_type": "display_data"
    }
   ],
   "source": [
    "features = model.synapses[-1].weight.data.cpu()\n",
    "print(features.size())\n",
    "j = 3\n",
    "for i in range(features.size(0)):\n",
    "    if i != j:\n",
    "        plt.plot(np.cumsum(features[i] * features[j]).T, label=i)#, aspect=100, cmap='seismic', vmin=-1e-1, vmax=1e-1)\n",
    "\n",
    "plt.legend()"
   ]
  },
  {
   "cell_type": "code",
   "execution_count": 90,
   "id": "aa0cb8be",
   "metadata": {
    "mosaic": []
   },
   "outputs": [],
   "source": [
    "path = 'results/EP/cel/2023-07-18/17-21-56_gpu0/'\n",
    "model = torch.load(path + 'model.pt')"
   ]
  },
  {
   "cell_type": "code",
   "execution_count": 78,
   "id": "48dfc0eb",
   "metadata": {
    "mosaic": []
   },
   "outputs": [
    {
     "data": {
      "text/plain": [
       "<matplotlib.colorbar.Colorbar at 0x7ff015ea2c18>"
      ]
     },
     "execution_count": 78,
     "metadata": {},
     "output_type": "execute_result"
    },
    {
     "data": {
      "image/png": "[encoded data removed]",
      "text/plain": [
       "<Figure size 432x288 with 2 Axes>"
      ]
     },
     "metadata": {
      "needs_background": "light"
     },
     "output_type": "display_data"
    }
   ],
   "source": [
    "plt.imshow(model.lat_syn[-1].weight.data.cpu(), vmin=-1e-1, vmax=1e-1, cmap='seismic')\n",
    "plt.colorbar()"
   ]
  },
  {
   "cell_type": "code",
   "execution_count": 88,
   "id": "42c01bc6",
   "metadata": {
    "mosaic": []
   },
   "outputs": [
    {
     "name": "stdout",
     "output_type": "stream",
     "text": [
      "torch.Size([10, 2304])\n"
     ]
    },
    {
     "data": {
      "text/plain": [
       "<matplotlib.colorbar.Colorbar at 0x7ff01418f470>"
      ]
     },
     "execution_count": 88,
     "metadata": {},
     "output_type": "execute_result"
    },
    {
     "data": {
      "image/png": "[encoded data removed]",
      "text/plain": [
       "<Figure size 432x288 with 2 Axes>"
      ]
     },
     "metadata": {
      "needs_background": "light"
     },
     "output_type": "display_data"
    }
   ],
   "source": [
    "features = model.synapses[-1].weight.data.cpu()\n",
    "print(features.size())\n",
    "latcon = torch.zeros((10,10))\n",
    "for i in range(features.size(0)):\n",
    "    latcon[i,:] = torch.sum(features[i] * features[:], dim=1) #, aspect=100, cmap='seismic', vmin=-1e-1, vmax=1e-1)\n",
    "    latcon[i,i] = 0\n",
    "\n",
    "plt.imshow(-latcon, cmap='seismic', vmin=-1, vmax=1)\n",
    "plt.colorbar()"
   ]
  },
  {
   "cell_type": "code",
   "execution_count": null,
   "id": "5483e1df",
   "metadata": {
    "mosaic": []
   },
   "outputs": [],
   "source": []
  }
 ],
 "metadata": {
  "kernelspec": {
   "display_name": "Python 3",
   "language": "python",
   "name": "python3"
  },
  "language_info": {
   "codemirror_mode": {
    "name": "ipython",
    "version": 3
   },
   "file_extension": ".py",
   "mimetype": "text/x-python",
   "name": "python",
   "nbconvert_exporter": "python",
   "pygments_lexer": "ipython3",
   "version": "3.6.13"
  }
 },
 "nbformat": 4,
 "nbformat_minor": 5
}
